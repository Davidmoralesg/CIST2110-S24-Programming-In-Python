{
 "cells": [
  {
   "cell_type": "markdown",
   "metadata": {},
   "source": [
    "# Python Loops (while and for)"
   ]
  },
  {
   "cell_type": "code",
   "execution_count": 3,
   "metadata": {},
   "outputs": [
    {
     "name": "stdout",
     "output_type": "stream",
     "text": [
      "1\n",
      "2\n",
      "3\n",
      "4\n",
      "5\n",
      "Done\n"
     ]
    }
   ],
   "source": [
    "# Python While Loops\n",
    "# A while loop is a control flow statement that allows code to be executed repeatedly based on a given boolean condition.\n",
    "# This code will print \"Hello World\" forever:\n",
    "# while True:\n",
    "#   print(\"Hello, World!\")\n",
    "# The condition is always true, so the loop will run indefinitely. I do not suggest you run this code. Look at the lecture to see me run it as an example.\n",
    "\n",
    "# The while loop syntax is:\n",
    "# while condition:\n",
    "#   body\n",
    "# The body of the loop is the code that will be executed as long as the condition is true.\n",
    "\n",
    "\n",
    "i = 1\n",
    "\n",
    "while i < 6:\n",
    "    print(i)\n",
    "    i = i + 1 # this can also be written as i += 1\n",
    "print(\"Done\")\n"
   ]
  },
  {
   "cell_type": "code",
   "execution_count": 6,
   "metadata": {},
   "outputs": [
    {
     "name": "stdout",
     "output_type": "stream",
     "text": [
      "We Are Running!\n",
      "You entered value hi\n",
      "Invalid input, assuming you still want to run. Type 'no' to stop running.\n",
      "We Are Running!\n",
      "You entered value hi\n",
      "Invalid input, assuming you still want to run. Type 'no' to stop running.\n",
      "We Are Running!\n",
      "You entered value no\n",
      "We are done running!\n"
     ]
    }
   ],
   "source": [
    "# While loop with a string variable\n",
    "runner = True\n",
    "while runner:\n",
    "    print(\"We Are Running!\")\n",
    "    runer_input = input(\"Do you want to run again? (yes/no): \").lower()\n",
    "    print(\"You entered value\", runer_input)\n",
    "    if runer_input == \"yes\": # if user entered yes, then set runer_input to True\n",
    "        runner = True # we are overwriting the string \"yes\" with the boolean True\n",
    "    elif runer_input == \"no\": # if user entered no, then set runer_input to False\n",
    "        runner = False # we are overwriting the string \"no\" with the boolean False\n",
    "    else: # This should handle any error in input\n",
    "        print(\"Invalid input, assuming you still want to run. Type 'no' to stop running.\")\n",
    "print(\"We are done running!\")"
   ]
  },
  {
   "cell_type": "code",
   "execution_count": 10,
   "metadata": {},
   "outputs": [
    {
     "name": "stdout",
     "output_type": "stream",
     "text": [
      "0\n",
      "1\n",
      "2\n",
      "3\n",
      "4\n",
      "5\n",
      "====================\n",
      "1\n",
      "2\n",
      "3\n",
      "4\n",
      "5\n"
     ]
    }
   ],
   "source": [
    "# Python For loops\n",
    "# A for loop is used for iterating over a sequence of elements (the only ones we know about yet are strings and numbers).\n",
    "# The syntax for a for loop is:\n",
    "# for variable in sequence:\n",
    "#   body\n",
    "# The body of the loop is the code that will be executed as long as the condition is true.\n",
    "# This is sometimes read as \"for each\"\n",
    "\n",
    "# Typically the range function is used to generate a sequence of numbers that the for loop can iterate over.\n",
    "\n",
    "for i in range(6):\n",
    "    print(i)\n",
    "# Notice that the range function generates a sequence of numbers from 0 to 5. The for loop then iterates over this sequence of numbers and prints them out.\n",
    "# The reason the range function starts at 0 is because it is a common programming convention to start counting at 0. This is called zero-based indexing.\n",
    "# index - 0 1 2 3 4 5 - Computer\n",
    "# value - 1 2 3 4 5 6 - Human\n",
    "print(\"====================\")\n",
    "# The range function can also take a starting number and an ending number as arguments. The syntax is:\n",
    "# range(start, end)\n",
    "for i in range(1,6):\n",
    "    print(i)\n",
    "# Notice how the range stops outputting numbers when it reaches the end number. The range function does not include the end number in the sequence.\n",
    "# IE, range(1,6) will output 1, 2, 3, 4, 5. It will not output 6."
   ]
  },
  {
   "cell_type": "code",
   "execution_count": 15,
   "metadata": {},
   "outputs": [
    {
     "name": "stdout",
     "output_type": "stream",
     "text": [
      "H\n",
      "e\n",
      "l\n",
      "l\n",
      "o\n",
      "W\n",
      "o\n",
      "r\n",
      "l\n",
      "d\n",
      "====================\n",
      "H\n",
      "e\n",
      "l\n",
      "l\n",
      "o\n",
      "W\n",
      "Bad Letter Found!\n",
      "o\n",
      "r\n",
      "l\n",
      "d\n"
     ]
    }
   ],
   "source": [
    "# Example with a string\n",
    "# Reads as \"for each letter in the string 'HelloWorld', print the letter.\"\n",
    "for letter in \"HelloWorld\":\n",
    "    print(letter)\n",
    "\n",
    "print(\"====================\")\n",
    "# It is important to note that the variable used in the for loop can be named anything. It is common to use the variable name \"i\" when iterating over numbers, but it is not required. That variable is temporary and only exists within the for loop. It is not accessible outside of the for loop.\n",
    "test = \"HelloWorld\"\n",
    "bad_letter = 'W'\n",
    "for letter in test:\n",
    "    print(letter)\n",
    "    if letter == bad_letter:\n",
    "        print(\"Bad Letter Found!\")\n",
    "    "
   ]
  },
  {
   "cell_type": "code",
   "execution_count": 17,
   "metadata": {},
   "outputs": [
    {
     "name": "stdout",
     "output_type": "stream",
     "text": [
      "Exit the loop when i is 3:\n",
      "0\n",
      "1\n",
      "2\n",
      "Done\n"
     ]
    }
   ],
   "source": [
    "## Break and Continue Statements\n",
    "# The Break statement is used to exit the loop immediately. The program will continue to execute after the loop.\n",
    "# The Continue statement is used to skip the rest of the code inside the loop for the current iteration only. The program will then continue to the next iteration of the loop.\n",
    "\n",
    "# Example of Break:\n",
    "\n",
    "print(\"Exit the loop when i is 3:\")\n",
    "for i in range(6):\n",
    "    if i == 3:\n",
    "        break\n",
    "    print(i)\n",
    "print(\"Done\")"
   ]
  },
  {
   "cell_type": "code",
   "execution_count": 19,
   "metadata": {},
   "outputs": [
    {
     "name": "stdout",
     "output_type": "stream",
     "text": [
      "Continue to the next iteration if i is 3:\n"
     ]
    },
    {
     "name": "stdout",
     "output_type": "stream",
     "text": [
      "0\n",
      "1\n",
      "2\n",
      "4\n",
      "5\n",
      "Done\n"
     ]
    }
   ],
   "source": [
    "## The continue statement\n",
    "# with the continue statment we stop the current iteration of the loop, and continue with the next iteration.\n",
    "# \"skip\" the rest of the code if i == 3\n",
    "print(\"Continue to the next iteration if i is 3:\")\n",
    "for i in range(6):\n",
    "    if i == 3:\n",
    "        continue\n",
    "    print(i)\n",
    "print(\"Done\")"
   ]
  }
 ],
 "metadata": {
  "kernelspec": {
   "display_name": "Python 3",
   "language": "python",
   "name": "python3"
  },
  "language_info": {
   "codemirror_mode": {
    "name": "ipython",
    "version": 3
   },
   "file_extension": ".py",
   "mimetype": "text/x-python",
   "name": "python",
   "nbconvert_exporter": "python",
   "pygments_lexer": "ipython3",
   "version": "3.11.7"
  }
 },
 "nbformat": 4,
 "nbformat_minor": 2
}
