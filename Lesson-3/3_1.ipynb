{
 "cells": [
  {
   "cell_type": "markdown",
   "metadata": {},
   "source": [
    "# if, elif, and else Statements and Python AND / OR Logical Operators"
   ]
  },
  {
   "cell_type": "code",
   "execution_count": 3,
   "metadata": {},
   "outputs": [
    {
     "name": "stdout",
     "output_type": "stream",
     "text": [
      "True\n",
      "5 is equal to 5\n",
      "5 is equal to 5\n"
     ]
    }
   ],
   "source": [
    "## if, elif, and else statements\n",
    "\n",
    "# if statement is used to execute code if a given contition is true\n",
    "# if statements are created usingt he \"if\" keyword\n",
    "# if statements have the following syntax:\n",
    "# if condition:\n",
    "#   code to execute if the condition is true\n",
    "\n",
    "# It is important to first understand the syntax in python's indentation\n",
    "# In java you use {} to define a block of code\n",
    "# In python you use indentation to define a block of code using the colon(:) to indicate the start of the block\n",
    "\n",
    "# Examples:\n",
    "\n",
    "print(5==5) # True\n",
    "\n",
    "if(5==5): # If this is true\n",
    "    print(\"5 is equal to 5\") # then print this\n",
    "    \n",
    "# You don't need the parenthesis in the if statement\n",
    "# IE:\n",
    "if 5==5:\n",
    "    print(\"5 is equal to 5\")\n"
   ]
  },
  {
   "cell_type": "code",
   "execution_count": 8,
   "metadata": {},
   "outputs": [
    {
     "name": "stdout",
     "output_type": "stream",
     "text": [
      "The number is not 5\n"
     ]
    }
   ],
   "source": [
    "number = int(input(\"Enter a number: \"))\n",
    "# 4\n",
    "if number == 5:\n",
    "    print(\"The number is 5\")\n",
    "\n",
    "if number != 5:\n",
    "    print(\"The number is not 5\")    \n"
   ]
  },
  {
   "cell_type": "code",
   "execution_count": 13,
   "metadata": {},
   "outputs": [
    {
     "name": "stdout",
     "output_type": "stream",
     "text": [
      "The number is 5\n"
     ]
    }
   ],
   "source": [
    "# The above code can be rewritten using elif statements\n",
    "# elif is short for \"else if\"\n",
    "# elif statements are used to check multiple conditions\n",
    "# elif statements are created using the \"elif\" keyword\n",
    "# elif statements have the following syntax:\n",
    "# if condition:\n",
    "#   code to execute if the condition is true\n",
    "# elif condition:\n",
    "#   code to execute if the condition is true\n",
    "\n",
    "# Rewrite the code above with elif statements\n",
    "# 5\n",
    "number = int(input(\"Enter a number: \"))\n",
    "if number == 5:                             #\n",
    "    print(\"The number is 5\")                #\n",
    "elif number == 6:                           #\n",
    "    print(\"The number is 6\")                # Waterfalls down to the next elif statement\n",
    "elif number != 6:                           # if the above condition is not true. Will skip all others if true\n",
    "    print(\"The number is not 6\")            #\n",
    "\n",
    "\n"
   ]
  },
  {
   "cell_type": "code",
   "execution_count": 16,
   "metadata": {},
   "outputs": [
    {
     "name": "stdout",
     "output_type": "stream",
     "text": [
      "The number is not 5 or 6\n"
     ]
    }
   ],
   "source": [
    "## else statments\n",
    "# else statements are used to execute code if the condition in the if statement is false\n",
    "# else statements are created using the \"else\" keyword\n",
    "# else statements have the following syntax:\n",
    "# if condition:\n",
    "#   code to execute if the condition is true\n",
    "# elif condition:\n",
    "#   code to execute if the condition is true\n",
    "# else:\n",
    "#   code to execute if the condition is false\n",
    "\n",
    "# Example:\n",
    "number = int(input(\"Enter a number: \"))\n",
    "if number == 5:                             \n",
    "    print(\"The number is 5\")                \n",
    "elif number == 6:\n",
    "    print(\"The number is 6\")\n",
    "else:\n",
    "    print(\"The number is not 5 or 6\")       # If the above conditions are not true, then print this"
   ]
  },
  {
   "cell_type": "code",
   "execution_count": 21,
   "metadata": {},
   "outputs": [
    {
     "name": "stdout",
     "output_type": "stream",
     "text": [
      "Hello greg, how are you?\n"
     ]
    }
   ],
   "source": [
    "# Examples with Strings\n",
    "\n",
    "my_name = str(input(\"Enter your name: \"))\n",
    "# if the user enters \"greg\" we wills ay \"Hello greg, how are you?\"\n",
    "# Otherwise we will say \"Hello, nice to meet you\"\n",
    "# if \"greg\" == \"greg\": # True\n",
    "# if \"Greg\" == \"greg\": # False\n",
    "if my_name.lower() == \"greg\":\n",
    "    print(\"Hello greg, how are you?\")\n",
    "else:\n",
    "    print(\"Hello, nice to meet you\")"
   ]
  },
  {
   "cell_type": "code",
   "execution_count": 32,
   "metadata": {},
   "outputs": [
    {
     "name": "stdout",
     "output_type": "stream",
     "text": [
      "The first number selected is: 5\n",
      "The second number selected is: 1\n",
      "The third number selected is: 8\n",
      "The largest number is: 8\n"
     ]
    }
   ],
   "source": [
    "### Accept 3 numbers from the user and print the largest number, only accept numbers between 1 and 10\n",
    "# This will be tricky with the if, elif, and else statements because we need to check if the number is between 1 AND 10\n",
    "\n",
    "number1 = int(input(\"Enter a number between 1 and 10: \"))\n",
    "# check if the number is between 1 and 10 and print the number. Otherwise print \"Number is not between 1 and 10\"\n",
    "# This is sometimes called a nested if statement\n",
    "if number1 > 0: # if the number is greater than 0 run the code below\n",
    "    if number1 < 11:\n",
    "        print(\"The first number selected is:\",number1)\n",
    "    else:\n",
    "        print(\"First Number is not between 1 and 10\")\n",
    "# This soltuion is not the best because it is not efficient. We can use the \"and\" keyword to combine the two conditions\n",
    "# We did not learn about the \"and\" keyword yet\n",
    "\n",
    "number2 = int(input(\"Enter a number between 1 and 10: \"))\n",
    "# This time lets try with the and keyword\n",
    "# This is directly related to truth tables from discrete math\n",
    "# The \"and\" keyword is used to combine two conditions\n",
    "# condition 1: number2 > 0 \n",
    "# condition 2: number2 < 11\n",
    "# if both conditions are true, then the code will run \n",
    "if number2 > 0 and number2 < 11: # if the number is greater than 0 \"and\" less than 11 run the code below\n",
    "    print(\"The second number selected is:\",number2)\n",
    "else:\n",
    "    print(\"Second Number is not between 1 and 10\")\n",
    "    \n",
    "# collect the third number\n",
    "number3 = int(input(\"Enter a number between 1 and 10: \"))\n",
    "if number3 > 0 and number3 < 11:\n",
    "    print(\"The third number selected is:\",number3)\n",
    "else:\n",
    "    print(\"Third Number is not between 1 and 10\")\n",
    "    \n",
    "# Now we need to find the largest number\n",
    "# We will use the if, elif, and else statements to find the largest number\n",
    "# We will use the \"and\" keyword to combine conditions\n",
    "\n",
    "# We will show both ways of writing this. With and without the and keyword\n",
    "# Without and keyword:\n",
    "# 5, 1 , 8\n",
    "if number1 > number2:\n",
    "    if number1 > number3:\n",
    "        print(\"The largest number is:\",number1)\n",
    "    else:\n",
    "        print(\"The largest number is:\",number3)\n",
    "# Need to handle if number2 > number1\n",
    "else:\n",
    "    if number2 > number3:\n",
    "        print(\"The largest number is:\",number2)\n",
    "    else:\n",
    "        print(\"The largest number is:\",number3)\n",
    "        "
   ]
  },
  {
   "cell_type": "code",
   "execution_count": 33,
   "metadata": {},
   "outputs": [
    {
     "name": "stdout",
     "output_type": "stream",
     "text": [
      "The largest number is: 8\n"
     ]
    }
   ],
   "source": [
    "# With the and keyword\n",
    "if number1 > number2 and number1 > number3:\n",
    "    print(\"The largest number is:\",number1)\n",
    "# Still need to handle if number2 > number1\n",
    "elif number2 > number3:\n",
    "    print(\"The largest number is:\",number2)\n",
    "else:\n",
    "    print(\"The largest number is:\",number3)"
   ]
  },
  {
   "cell_type": "code",
   "execution_count": 56,
   "metadata": {},
   "outputs": [
    {
     "name": "stdout",
     "output_type": "stream",
     "text": [
      "It is not raining\n",
      "You do not need a jacket\n"
     ]
    }
   ],
   "source": [
    "# Examples with the OR keyword\n",
    "# The \"or\" keyword is used to combine two conditions in an if statement either condition 1 or condition 2 must be true\n",
    "\n",
    "# Check to see if it is less or equal to 30 degress or raining and suggest a jacket if either are true\n",
    "\n",
    "# first ask the user if it is currently raining. Set the value to a boolean\n",
    "raining = input(\"Is it raining outside?(yes/no)\").lower() # input will be a string\n",
    "# Note the .lower here, it will make sure the user input is lowercase\n",
    "# second check that the user entered a valid response (yes or no)\n",
    "\n",
    "if raining == \"yes\": # if user entered yes, then set raining to True\n",
    "    raining = True # we are overwriting the string \"yes\" with the boolean True\n",
    "    print(\"It is raining\")\n",
    "elif raining == \"no\": # if user entered no, then set raining to False\n",
    "    raining = False # we are overwriting the string \"no\" with the boolean False\n",
    "    print(\"It is not raining\")\n",
    "else: # This should handle any error in input\n",
    "    print(\"Invalid input\")\n",
    "\n",
    "# Third ask the user for the temperature\n",
    "temp = int(input(\"What is the temperature outside? \"))\n",
    "# Fourth check if the temperature is less than or equal to 30 or if it is raining\n",
    "if temp <= 30 or raining:\n",
    "    print(\"You should bring a jacket\")\n",
    "else:\n",
    "    print(\"You do not need a jacket\")"
   ]
  }
 ],
 "metadata": {
  "kernelspec": {
   "display_name": "Python 3",
   "language": "python",
   "name": "python3"
  },
  "language_info": {
   "codemirror_mode": {
    "name": "ipython",
    "version": 3
   },
   "file_extension": ".py",
   "mimetype": "text/x-python",
   "name": "python",
   "nbconvert_exporter": "python",
   "pygments_lexer": "ipython3",
   "version": "3.11.7"
  }
 },
 "nbformat": 4,
 "nbformat_minor": 2
}
