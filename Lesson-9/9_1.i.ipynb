{
 "cells": [
  {
   "cell_type": "markdown",
   "metadata": {},
   "source": [
    "# Python File I/O"
   ]
  },
  {
   "cell_type": "markdown",
   "metadata": {},
   "source": [
    "### File Handling Importance and Functions\n",
    "\n",
    "#### Importance of File Handling\n",
    "- File handling is an important part of any web application or cli (command line interface) tool (API's, Database, txt, csv)\n",
    "- Majority of web applications read and write data to files on a server\n",
    "- CSV's are a common file format used to store data\n",
    "- Text files can be used as a medium to store logs and errors\n",
    "- File handling is a crucial part of any application\n",
    "\n",
    "#### Functions\n",
    "- open() - opens a file in read or write mode\n",
    "- read() - reads the entire file\n",
    "- write() - writes to a file\n",
    "- close() - closes the file\n",
    "- readline() - reads a single line from the file (this is useful for large files) "
   ]
  },
  {
   "cell_type": "code",
   "execution_count": 6,
   "metadata": {},
   "outputs": [
    {
     "name": "stdout",
     "output_type": "stream",
     "text": [
      "Lorem ipsum dolor sit amet, consectetur adipiscing elit, sed do eiusmod tempor incididunt ut labore et dolore magna aliqua.\n",
      "\n",
      "Ut enim ad minim veniam, quis nostrud exercitation ullamco laboris nisi ut aliquip ex ea commodo consequat. \n",
      "\n",
      "Duis aute irure dolor in reprehenderit in voluptate velit esse cillum dolore eu fugiat nulla pariatur. \n",
      "\n",
      "Excepteur sint occaecat cupidatat non proident, sunt in culpa qui officia deserunt mollit anim id est laborum.\n"
     ]
    }
   ],
   "source": [
    "## Python Open Function\n",
    "\n",
    "# The open function takes in two parameters, the file path and the mode.\n",
    "\n",
    "# There are four different (modes) for opening a file:\n",
    "# \"r\" - Read - Default value. Opens a file for reading, error if the file does not exist\n",
    "# \"a\" - Append - Opens a file for appending, creates the file if it does not exist\n",
    "# \"w\" - Write - Opens a file for writing, creates the file if it does not exist\n",
    "# \"x\" - Create - Creates the specified file, returns an error if the file exists\n",
    "\n",
    "# Note: Append will add to the end of the file, write will overwrite the file\n",
    "\n",
    "\n",
    "# Example of opening a file\n",
    "# The open function returns a file object, which has a read or write method for getting or modifying the file's contents.\n",
    "# There is a txt file called lorem.txt lets open it and read the contents\n",
    "file = open(\"lorem.txt\", \"r\") # open file in read mode\n",
    "file.read() # read the contents of the file\n",
    "# Note: If this was a .py file I would need to use the print function to display the contents of the file. Since this is a ipynb file I can just run the cell and it will display the contents of the file.\n",
    "\n",
    "# Alternatively we can use a while loop to read the file line by line\n",
    "with open(\"lorem.txt\", \"r\") as file:\n",
    "    for line in file:\n",
    "        print(line)\n",
    "\n",
    "\n"
   ]
  },
  {
   "cell_type": "code",
   "execution_count": 7,
   "metadata": {},
   "outputs": [
    {
     "name": "stdout",
     "output_type": "stream",
     "text": [
      "Lorem ipsum dolor sit amet consectetur adipiscing elit sed do eiusmod tempor incididunt ut labore et dolore magna aliqua. Pharetra magna ac placerat vestibulum lectus mauris ultrices.    Porttitor lacus luctus accumsan tortor posuere ac ut. In ornare quam viverra orci. Eget lorem dolor sed viverra ipsum nunc. Fusce id velit ut tortor. Mi in nulla posuere sollicitudin aliquam ultrices sagittis orci. Nunc scelerisque viverra mauris in aliquam. Sed adipiscing diam donec adipiscing tristique risus nec feugiat. Turpis massa tincidunt dui ut ornare. At erat pellentesque adipiscing commodo elit at imperdiet. Aliquam sem fringilla ut morbi. Blandit turpis cursus in hac habitasse platea. Magna sit amet purus gravida quis blandit. Diam quam nulla porttitor massa. Pellentesque massa placerat duis ultricies. Adipiscing enim eu turpis egestas pretium aenean. Suspendisse interdum consectetur libero id faucibus nisl tincidunt eget nullam. Suspendisse in est ante in. Suspendisse ultrices gravida dictum fusce ut placerat orci. Egestas tellus rutrum tellus pellentesque eu tincidunt tortor aliquam. Mauris cursus mattis molestie a iaculis at. Orci nulla pellentesque dignissim enim sit amet venenatis. Sollicitudin ac orci phasellus egestas tellus rutrum tellus pellentesque. Ultrices neque ornare aenean euismod elementum nisi quis eleifend. Suspendisse interdum consectetur libero id faucibus. Elementum facilisis leo vel fringilla est ullamcorper eget nulla facilisi. Dolor sed viverra ipsum nunc aliquet bibendum enim. Odio pellentesque diam volutpat commodo sed egestas egestas fringilla phasellus. Enim nunc faucibus a pellentesque sit. Mi ipsum faucibus vitae aliquet. Eu scelerisque felis imperdiet proin fermentum leo vel orci. Sed vulputate odio ut enim blandit volutpat maecenas. At quis risus sed vulputate odio ut enim blandit. Feugiat in fermentum posuere urna nec. Non enim praesent elementum facilisis. Viverra vitae congue eu consequat ac felis donec. Tellus in hac habitasse platea dictumst vestibulum rhoncus. Quis ipsum suspendisse ultrices gravida dictum fusce ut placerat. Etiam non quam lacus suspendisse faucibus interdum posuere lorem ipsum. Arcu dui vivamus arcu felis bibendum ut tristique. A pellentesque sit amet porttitor eget dolor morbi non arcu. Neque convallis a cras semper auctor neque. Cursus eget nunc scelerisque viverra mauris in aliquam sem. Suspendisse interdum consectetur libero id faucibus nisl tincidunt. Vitae justo eget magna fermentum iaculis eu non. Vestibulum morbi blandit cursus risus at ultrices mi. Blandit massa enim nec dui nunc mattis enim. Mi eget mauris pharetra et ultrices neque. A diam sollicitudin tempor id eu. Volutpat diam ut venenatis tellus in metus vulputate eu. Dignissim convallis aenean et tortor. Tellus rutrum tellus pellentesque eu tincidunt. Posuere lorem ipsum dolor sit amet consectetur adipiscing elit. In pellentesque massa placerat duis ultricies lacus sed turpis tincidunt. Eget nunc scelerisque viverra mauris. Augue neque gravida in fermentum. Leo in vitae turpis massa sed elementum tempus. Sed risus pretium quam vulputate. Pulvinar elementum integer enim neque volutpat ac. Sit amet consectetur adipiscing elit pellentesque habitant morbi tristique. Felis eget velit aliquet sagittis id consectetur purus ut faucibus. Blandit aliquam etiam erat velit. Hendrerit gravida rutrum quisque non tellus. Libero nunc consequat interdum varius sit amet mattis vulputate. Aliquam id diam maecenas ultricies mi eget mauris. Tellus rutrum tellus pellentesque eu. Viverra nibh cras pulvinar mattis nunc. Elementum nibh tellus molestie nunc. Nec feugiat nisl pretium fusce id velit. Odio eu feugiat pretium nibh ipsum. Posuere ac ut consequat semper viverra nam libero justo. Eleifend quam adipiscing vitae proin sagittis nisl. Sit amet mattis vulputate enim nulla aliquet porttitor lacus. Facilisis mauris sit amet massa vitae. Praesent elementum facilisis leo vel. Urna porttitor rhoncus dolor purus non enim praesent. Facilisis gravida neque convallis a cras semper auctor neque. Felis donec et odio pellentesque. Eu turpis egestas pretium aenean.\n"
     ]
    }
   ],
   "source": [
    "# There is a file called loremlong.txt lets open it and read the contents\n",
    "with open(\"loremlong.txt\", \"r\") as file:\n",
    "    for line in file:\n",
    "        print(line)\n",
    "        \n",
    "# Notice that the file is a single line."
   ]
  },
  {
   "cell_type": "code",
   "execution_count": 22,
   "metadata": {},
   "outputs": [
    {
     "name": "stdout",
     "output_type": "stream",
     "text": [
      "['Lorem', 'ipsum', 'dolor', 'sit', 'amet', 'consectetur', 'adipiscing', 'elit', 'sed', 'do', 'eiusmod', 'tempor', 'incididunt', 'ut', 'labore', 'et', 'dolore', 'magna', 'aliqua.', 'Pharetra', 'magna', 'ac', 'placerat', 'vestibulum', 'lectus', 'mauris', 'ultrices.', 'Porttitor', 'lacus', 'luctus', 'accumsan', 'tortor', 'posuere', 'ac', 'ut.', 'In', 'ornare', 'quam', 'viverra', 'orci.', 'Eget', 'lorem', 'dolor', 'sed', 'viverra', 'ipsum', 'nunc.', 'Fusce', 'id', 'velit', 'ut', 'tortor.', 'Mi', 'in', 'nulla', 'posuere', 'sollicitudin', 'aliquam', 'ultrices', 'sagittis', 'orci.', 'Nunc', 'scelerisque', 'viverra', 'mauris', 'in', 'aliquam.', 'Sed', 'adipiscing', 'diam', 'donec', 'adipiscing', 'tristique', 'risus', 'nec', 'feugiat.', 'Turpis', 'massa', 'tincidunt', 'dui', 'ut', 'ornare.', 'At', 'erat', 'pellentesque', 'adipiscing', 'commodo', 'elit', 'at', 'imperdiet.', 'Aliquam', 'sem', 'fringilla', 'ut', 'morbi.', 'Blandit', 'turpis', 'cursus', 'in', 'hac', 'habitasse', 'platea.', 'Magna', 'sit', 'amet', 'purus', 'gravida', 'quis', 'blandit.', 'Diam', 'quam', 'nulla', 'porttitor', 'massa.', 'Pellentesque', 'massa', 'placerat', 'duis', 'ultricies.', 'Adipiscing', 'enim', 'eu', 'turpis', 'egestas', 'pretium', 'aenean.', 'Suspendisse', 'interdum', 'consectetur', 'libero', 'id', 'faucibus', 'nisl', 'tincidunt', 'eget', 'nullam.', 'Suspendisse', 'in', 'est', 'ante', 'in.', 'Suspendisse', 'ultrices', 'gravida', 'dictum', 'fusce', 'ut', 'placerat', 'orci.', 'Egestas', 'tellus', 'rutrum', 'tellus', 'pellentesque', 'eu', 'tincidunt', 'tortor', 'aliquam.', 'Mauris', 'cursus', 'mattis', 'molestie', 'a', 'iaculis', 'at.', 'Orci', 'nulla', 'pellentesque', 'dignissim', 'enim', 'sit', 'amet', 'venenatis.', 'Sollicitudin', 'ac', 'orci', 'phasellus', 'egestas', 'tellus', 'rutrum', 'tellus', 'pellentesque.', 'Ultrices', 'neque', 'ornare', 'aenean', 'euismod', 'elementum', 'nisi', 'quis', 'eleifend.', 'Suspendisse', 'interdum', 'consectetur', 'libero', 'id', 'faucibus.', 'Elementum', 'facilisis', 'leo', 'vel', 'fringilla', 'est', 'ullamcorper', 'eget', 'nulla', 'facilisi.', 'Dolor', 'sed', 'viverra', 'ipsum', 'nunc', 'aliquet', 'bibendum', 'enim.', 'Odio', 'pellentesque', 'diam', 'volutpat', 'commodo', 'sed', 'egestas', 'egestas', 'fringilla', 'phasellus.', 'Enim', 'nunc', 'faucibus', 'a', 'pellentesque', 'sit.', 'Mi', 'ipsum', 'faucibus', 'vitae', 'aliquet.', 'Eu', 'scelerisque', 'felis', 'imperdiet', 'proin', 'fermentum', 'leo', 'vel', 'orci.', 'Sed', 'vulputate', 'odio', 'ut', 'enim', 'blandit', 'volutpat', 'maecenas.', 'At', 'quis', 'risus', 'sed', 'vulputate', 'odio', 'ut', 'enim', 'blandit.', 'Feugiat', 'in', 'fermentum', 'posuere', 'urna', 'nec.', 'Non', 'enim', 'praesent', 'elementum', 'facilisis.', 'Viverra', 'vitae', 'congue', 'eu', 'consequat', 'ac', 'felis', 'donec.', 'Tellus', 'in', 'hac', 'habitasse', 'platea', 'dictumst', 'vestibulum', 'rhoncus.', 'Quis', 'ipsum', 'suspendisse', 'ultrices', 'gravida', 'dictum', 'fusce', 'ut', 'placerat.', 'Etiam', 'non', 'quam', 'lacus', 'suspendisse', 'faucibus', 'interdum', 'posuere', 'lorem', 'ipsum.', 'Arcu', 'dui', 'vivamus', 'arcu', 'felis', 'bibendum', 'ut', 'tristique.', 'A', 'pellentesque', 'sit', 'amet', 'porttitor', 'eget', 'dolor', 'morbi', 'non', 'arcu.', 'Neque', 'convallis', 'a', 'cras', 'semper', 'auctor', 'neque.', 'Cursus', 'eget', 'nunc', 'scelerisque', 'viverra', 'mauris', 'in', 'aliquam', 'sem.', 'Suspendisse', 'interdum', 'consectetur', 'libero', 'id', 'faucibus', 'nisl', 'tincidunt.', 'Vitae', 'justo', 'eget', 'magna', 'fermentum', 'iaculis', 'eu', 'non.', 'Vestibulum', 'morbi', 'blandit', 'cursus', 'risus', 'at', 'ultrices', 'mi.', 'Blandit', 'massa', 'enim', 'nec', 'dui', 'nunc', 'mattis', 'enim.', 'Mi', 'eget', 'mauris', 'pharetra', 'et', 'ultrices', 'neque.', 'A', 'diam', 'sollicitudin', 'tempor', 'id', 'eu.', 'Volutpat', 'diam', 'ut', 'venenatis', 'tellus', 'in', 'metus', 'vulputate', 'eu.', 'Dignissim', 'convallis', 'aenean', 'et', 'tortor.', 'Tellus', 'rutrum', 'tellus', 'pellentesque', 'eu', 'tincidunt.', 'Posuere', 'lorem', 'ipsum', 'dolor', 'sit', 'amet', 'consectetur', 'adipiscing', 'elit.', 'In', 'pellentesque', 'massa', 'placerat', 'duis', 'ultricies', 'lacus', 'sed', 'turpis', 'tincidunt.', 'Eget', 'nunc', 'scelerisque', 'viverra', 'mauris.', 'Augue', 'neque', 'gravida', 'in', 'fermentum.', 'Leo', 'in', 'vitae', 'turpis', 'massa', 'sed', 'elementum', 'tempus.', 'Sed', 'risus', 'pretium', 'quam', 'vulputate.', 'Pulvinar', 'elementum', 'integer', 'enim', 'neque', 'volutpat', 'ac.', 'Sit', 'amet', 'consectetur', 'adipiscing', 'elit', 'pellentesque', 'habitant', 'morbi', 'tristique.', 'Felis', 'eget', 'velit', 'aliquet', 'sagittis', 'id', 'consectetur', 'purus', 'ut', 'faucibus.', 'Blandit', 'aliquam', 'etiam', 'erat', 'velit.', 'Hendrerit', 'gravida', 'rutrum', 'quisque', 'non', 'tellus.', 'Libero', 'nunc', 'consequat', 'interdum', 'varius', 'sit', 'amet', 'mattis', 'vulputate.', 'Aliquam', 'id', 'diam', 'maecenas', 'ultricies', 'mi', 'eget', 'mauris.', 'Tellus', 'rutrum', 'tellus', 'pellentesque', 'eu.', 'Viverra', 'nibh', 'cras', 'pulvinar', 'mattis', 'nunc.', 'Elementum', 'nibh', 'tellus', 'molestie', 'nunc.', 'Nec', 'feugiat', 'nisl', 'pretium', 'fusce', 'id', 'velit.', 'Odio', 'eu', 'feugiat', 'pretium', 'nibh', 'ipsum.', 'Posuere', 'ac', 'ut', 'consequat', 'semper', 'viverra', 'nam', 'libero', 'justo.', 'Eleifend', 'quam', 'adipiscing', 'vitae', 'proin', 'sagittis', 'nisl.', 'Sit', 'amet', 'mattis', 'vulputate', 'enim', 'nulla', 'aliquet', 'porttitor', 'lacus.', 'Facilisis', 'mauris', 'sit', 'amet', 'massa', 'vitae.', 'Praesent', 'elementum', 'facilisis', 'leo', 'vel.', 'Urna', 'porttitor', 'rhoncus', 'dolor', 'purus', 'non', 'enim', 'praesent.', 'Facilisis', 'gravida', 'neque', 'convallis', 'a', 'cras', 'semper', 'auctor', 'neque.', 'Felis', 'donec', 'et', 'odio', 'pellentesque.', 'Eu', 'turpis', 'egestas', 'pretium', 'aenean.']\n",
      "['Lorem', 'ipsum', 'dolor', 'sit', 'amet', 'consectetur', 'adipiscing', 'elit', 'sed', 'do', 'eiusmod', 'tempor', 'incididunt', 'ut', 'labore', 'et', 'dolore', 'magna', 'aliqua.', 'Pharetra', 'magna', 'ac', 'placerat', 'vestibulum', 'lectus', 'mauris', 'ultrices.', 'Porttitor', 'lacus', 'luctus', 'accumsan', 'tortor', 'posuere', 'ac', 'ut.', 'In', 'ornare', 'quam', 'viverra', 'orci.', 'Eget', 'lorem', 'dolor', 'sed', 'viverra', 'ipsum', 'nunc.', 'Fusce', 'id', 'velit', 'ut', 'tortor.', 'Mi', 'in', 'nulla', 'posuere', 'sollicitudin', 'aliquam', 'ultrices', 'sagittis', 'orci.', 'Nunc', 'scelerisque', 'viverra', 'mauris', 'in', 'aliquam.', 'Sed', 'adipiscing', 'diam', 'donec', 'adipiscing', 'tristique', 'risus', 'nec', 'feugiat.', 'Turpis', 'massa', 'tincidunt', 'dui', 'ut', 'ornare.', 'At', 'erat', 'pellentesque', 'adipiscing', 'commodo', 'elit', 'at', 'imperdiet.', 'Aliquam', 'sem', 'fringilla', 'ut', 'morbi.', 'Blandit', 'turpis', 'cursus', 'in', 'hac', 'habitasse', 'platea.', 'Magna', 'sit', 'amet', 'purus', 'gravida', 'quis', 'blandit.', 'Diam', 'quam', 'nulla', 'porttitor', 'massa.', 'Pellentesque', 'massa', 'placerat', 'duis', 'ultricies.', 'Adipiscing', 'enim', 'eu', 'turpis', 'egestas', 'pretium', 'aenean.', 'Suspendisse', 'interdum', 'consectetur', 'libero', 'id', 'faucibus', 'nisl', 'tincidunt', 'eget', 'nullam.', 'Suspendisse', 'in', 'est', 'ante', 'in.', 'Suspendisse', 'ultrices', 'gravida', 'dictum', 'fusce', 'ut', 'placerat', 'orci.', 'Egestas', 'tellus', 'rutrum', 'tellus', 'pellentesque', 'eu', 'tincidunt', 'tortor', 'aliquam.', 'Mauris', 'cursus', 'mattis', 'molestie', 'a', 'iaculis', 'at.', 'Orci', 'nulla', 'pellentesque', 'dignissim', 'enim', 'sit', 'amet', 'venenatis.', 'Sollicitudin', 'ac', 'orci', 'phasellus', 'egestas', 'tellus', 'rutrum', 'tellus', 'pellentesque.', 'Ultrices', 'neque', 'ornare', 'aenean', 'euismod', 'elementum', 'nisi', 'quis', 'eleifend.', 'Suspendisse', 'interdum', 'consectetur', 'libero', 'id', 'faucibus.', 'Elementum', 'facilisis', 'leo', 'vel', 'fringilla', 'est', 'ullamcorper', 'eget', 'nulla', 'facilisi.', 'Dolor', 'sed', 'viverra', 'ipsum', 'nunc', 'aliquet', 'bibendum', 'enim.', 'Odio', 'pellentesque', 'diam', 'volutpat', 'commodo', 'sed', 'egestas', 'egestas', 'fringilla', 'phasellus.', 'Enim', 'nunc', 'faucibus', 'a', 'pellentesque', 'sit.', 'Mi', 'ipsum', 'faucibus', 'vitae', 'aliquet.', 'Eu', 'scelerisque', 'felis', 'imperdiet', 'proin', 'fermentum', 'leo', 'vel', 'orci.', 'Sed', 'vulputate', 'odio', 'ut', 'enim', 'blandit', 'volutpat', 'maecenas.', 'At', 'quis', 'risus', 'sed', 'vulputate', 'odio', 'ut', 'enim', 'blandit.', 'Feugiat', 'in', 'fermentum', 'posuere', 'urna', 'nec.', 'Non', 'enim', 'praesent', 'elementum', 'facilisis.', 'Viverra', 'vitae', 'congue', 'eu', 'consequat', 'ac', 'felis', 'donec.', 'Tellus', 'in', 'hac', 'habitasse', 'platea', 'dictumst', 'vestibulum', 'rhoncus.', 'Quis', 'ipsum', 'suspendisse', 'ultrices', 'gravida', 'dictum', 'fusce', 'ut', 'placerat.', 'Etiam', 'non', 'quam', 'lacus', 'suspendisse', 'faucibus', 'interdum', 'posuere', 'lorem', 'ipsum.', 'Arcu', 'dui', 'vivamus', 'arcu', 'felis', 'bibendum', 'ut', 'tristique.', 'A', 'pellentesque', 'sit', 'amet', 'porttitor', 'eget', 'dolor', 'morbi', 'non', 'arcu.', 'Neque', 'convallis', 'a', 'cras', 'semper', 'auctor', 'neque.', 'Cursus', 'eget', 'nunc', 'scelerisque', 'viverra', 'mauris', 'in', 'aliquam', 'sem.', 'Suspendisse', 'interdum', 'consectetur', 'libero', 'id', 'faucibus', 'nisl', 'tincidunt.', 'Vitae', 'justo', 'eget', 'magna', 'fermentum', 'iaculis', 'eu', 'non.', 'Vestibulum', 'morbi', 'blandit', 'cursus', 'risus', 'at', 'ultrices', 'mi.', 'Blandit', 'massa', 'enim', 'nec', 'dui', 'nunc', 'mattis', 'enim.', 'Mi', 'eget', 'mauris', 'pharetra', 'et', 'ultrices', 'neque.', 'A', 'diam', 'sollicitudin', 'tempor', 'id', 'eu.', 'Volutpat', 'diam', 'ut', 'venenatis', 'tellus', 'in', 'metus', 'vulputate', 'eu.', 'Dignissim', 'convallis', 'aenean', 'et', 'tortor.', 'Tellus', 'rutrum', 'tellus', 'pellentesque', 'eu', 'tincidunt.', 'Posuere', 'lorem', 'ipsum', 'dolor', 'sit', 'amet', 'consectetur', 'adipiscing', 'elit.', 'In', 'pellentesque', 'massa', 'placerat', 'duis', 'ultricies', 'lacus', 'sed', 'turpis', 'tincidunt.', 'Eget', 'nunc', 'scelerisque', 'viverra', 'mauris.', 'Augue', 'neque', 'gravida', 'in', 'fermentum.', 'Leo', 'in', 'vitae', 'turpis', 'massa', 'sed', 'elementum', 'tempus.', 'Sed', 'risus', 'pretium', 'quam', 'vulputate.', 'Pulvinar', 'elementum', 'integer', 'enim', 'neque', 'volutpat', 'ac.', 'Sit', 'amet', 'consectetur', 'adipiscing', 'elit', 'pellentesque', 'habitant', 'morbi', 'tristique.', 'Felis', 'eget', 'velit', 'aliquet', 'sagittis', 'id', 'consectetur', 'purus', 'ut', 'faucibus.', 'Blandit', 'aliquam', 'etiam', 'erat', 'velit.', 'Hendrerit', 'gravida', 'rutrum', 'quisque', 'non', 'tellus.', 'Libero', 'nunc', 'consequat', 'interdum', 'varius', 'sit', 'amet', 'mattis', 'vulputate.', 'Aliquam', 'id', 'diam', 'maecenas', 'ultricies', 'mi', 'eget', 'mauris.', 'Tellus', 'rutrum', 'tellus', 'pellentesque', 'eu.', 'Viverra', 'nibh', 'cras', 'pulvinar', 'mattis', 'nunc.', 'Elementum', 'nibh', 'tellus', 'molestie', 'nunc.', 'Nec', 'feugiat', 'nisl', 'pretium', 'fusce', 'id', 'velit.', 'Odio', 'eu', 'feugiat', 'pretium', 'nibh', 'ipsum.', 'Posuere', 'ac', 'ut', 'consequat', 'semper', 'viverra', 'nam', 'libero', 'justo.', 'Eleifend', 'quam', 'adipiscing', 'vitae', 'proin', 'sagittis', 'nisl.', 'Sit', 'amet', 'mattis', 'vulputate', 'enim', 'nulla', 'aliquet', 'porttitor', 'lacus.', 'Facilisis', 'mauris', 'sit', 'amet', 'massa', 'vitae.', 'Praesent', 'elementum', 'facilisis', 'leo', 'vel.', 'Urna', 'porttitor', 'rhoncus', 'dolor', 'purus', 'non', 'enim', 'praesent.', 'Facilisis', 'gravida', 'neque', 'convallis', 'a', 'cras', 'semper', 'auctor', 'neque.', 'Felis', 'donec', 'et', 'odio', 'pellentesque.', 'Eu', 'turpis', 'egestas', 'pretium', 'aenean.']\n",
      "[['Lorem', 'ipsum', 'dolor', 'sit', 'amet', 'consectetur', 'adipiscing', 'elit', 'sed', 'do', 'eiusmod', 'tempor', 'incididunt', 'ut', 'labore', 'et', 'dolore', 'magna', 'aliqua.', 'Pharetra', 'magna', 'ac', 'placerat', 'vestibulum', 'lectus', 'mauris', 'ultrices.', 'Porttitor', 'lacus', 'luctus', 'accumsan', 'tortor', 'posuere', 'ac', 'ut.', 'In', 'ornare', 'quam', 'viverra', 'orci.', 'Eget', 'lorem', 'dolor', 'sed', 'viverra', 'ipsum', 'nunc.', 'Fusce', 'id', 'velit', 'ut', 'tortor.', 'Mi', 'in', 'nulla', 'posuere', 'sollicitudin', 'aliquam', 'ultrices', 'sagittis', 'orci.', 'Nunc', 'scelerisque', 'viverra', 'mauris', 'in', 'aliquam.', 'Sed', 'adipiscing', 'diam', 'donec', 'adipiscing', 'tristique', 'risus', 'nec', 'feugiat.', 'Turpis', 'massa', 'tincidunt', 'dui', 'ut', 'ornare.', 'At', 'erat', 'pellentesque', 'adipiscing', 'commodo', 'elit', 'at', 'imperdiet.', 'Aliquam', 'sem', 'fringilla', 'ut', 'morbi.', 'Blandit', 'turpis', 'cursus', 'in', 'hac', 'habitasse', 'platea.', 'Magna', 'sit', 'amet', 'purus', 'gravida', 'quis', 'blandit.', 'Diam', 'quam', 'nulla', 'porttitor', 'massa.', 'Pellentesque', 'massa', 'placerat', 'duis', 'ultricies.', 'Adipiscing', 'enim', 'eu', 'turpis', 'egestas', 'pretium', 'aenean.', 'Suspendisse', 'interdum', 'consectetur', 'libero', 'id', 'faucibus', 'nisl', 'tincidunt', 'eget', 'nullam.', 'Suspendisse', 'in', 'est', 'ante', 'in.', 'Suspendisse', 'ultrices', 'gravida', 'dictum', 'fusce', 'ut', 'placerat', 'orci.', 'Egestas', 'tellus', 'rutrum', 'tellus', 'pellentesque', 'eu', 'tincidunt', 'tortor', 'aliquam.', 'Mauris', 'cursus', 'mattis', 'molestie', 'a', 'iaculis', 'at.', 'Orci', 'nulla', 'pellentesque', 'dignissim', 'enim', 'sit', 'amet', 'venenatis.', 'Sollicitudin', 'ac', 'orci', 'phasellus', 'egestas', 'tellus', 'rutrum', 'tellus', 'pellentesque.', 'Ultrices', 'neque', 'ornare', 'aenean', 'euismod', 'elementum', 'nisi', 'quis', 'eleifend.', 'Suspendisse', 'interdum', 'consectetur', 'libero', 'id', 'faucibus.', 'Elementum', 'facilisis', 'leo', 'vel', 'fringilla', 'est', 'ullamcorper', 'eget', 'nulla', 'facilisi.', 'Dolor', 'sed', 'viverra', 'ipsum', 'nunc', 'aliquet', 'bibendum', 'enim.', 'Odio', 'pellentesque', 'diam', 'volutpat', 'commodo', 'sed', 'egestas', 'egestas', 'fringilla', 'phasellus.', 'Enim', 'nunc', 'faucibus', 'a', 'pellentesque', 'sit.', 'Mi', 'ipsum', 'faucibus', 'vitae', 'aliquet.', 'Eu', 'scelerisque', 'felis', 'imperdiet', 'proin', 'fermentum', 'leo', 'vel', 'orci.', 'Sed', 'vulputate', 'odio', 'ut', 'enim', 'blandit', 'volutpat', 'maecenas.', 'At', 'quis', 'risus', 'sed', 'vulputate', 'odio', 'ut', 'enim', 'blandit.', 'Feugiat', 'in', 'fermentum', 'posuere', 'urna', 'nec.', 'Non', 'enim', 'praesent', 'elementum', 'facilisis.', 'Viverra', 'vitae', 'congue', 'eu', 'consequat', 'ac', 'felis', 'donec.', 'Tellus', 'in', 'hac', 'habitasse', 'platea', 'dictumst', 'vestibulum', 'rhoncus.', 'Quis', 'ipsum', 'suspendisse', 'ultrices', 'gravida', 'dictum', 'fusce', 'ut', 'placerat.', 'Etiam', 'non', 'quam', 'lacus', 'suspendisse', 'faucibus', 'interdum', 'posuere', 'lorem', 'ipsum.', 'Arcu', 'dui', 'vivamus', 'arcu', 'felis', 'bibendum', 'ut', 'tristique.', 'A', 'pellentesque', 'sit', 'amet', 'porttitor', 'eget', 'dolor', 'morbi', 'non', 'arcu.', 'Neque', 'convallis', 'a', 'cras', 'semper', 'auctor', 'neque.', 'Cursus', 'eget', 'nunc', 'scelerisque', 'viverra', 'mauris', 'in', 'aliquam', 'sem.', 'Suspendisse', 'interdum', 'consectetur', 'libero', 'id', 'faucibus', 'nisl', 'tincidunt.', 'Vitae', 'justo', 'eget', 'magna', 'fermentum', 'iaculis', 'eu', 'non.', 'Vestibulum', 'morbi', 'blandit', 'cursus', 'risus', 'at', 'ultrices', 'mi.', 'Blandit', 'massa', 'enim', 'nec', 'dui', 'nunc', 'mattis', 'enim.', 'Mi', 'eget', 'mauris', 'pharetra', 'et', 'ultrices', 'neque.', 'A', 'diam', 'sollicitudin', 'tempor', 'id', 'eu.', 'Volutpat', 'diam', 'ut', 'venenatis', 'tellus', 'in', 'metus', 'vulputate', 'eu.', 'Dignissim', 'convallis', 'aenean', 'et', 'tortor.', 'Tellus', 'rutrum', 'tellus', 'pellentesque', 'eu', 'tincidunt.', 'Posuere', 'lorem', 'ipsum', 'dolor', 'sit', 'amet', 'consectetur', 'adipiscing', 'elit.', 'In', 'pellentesque', 'massa', 'placerat', 'duis', 'ultricies', 'lacus', 'sed', 'turpis', 'tincidunt.', 'Eget', 'nunc', 'scelerisque', 'viverra', 'mauris.', 'Augue', 'neque', 'gravida', 'in', 'fermentum.', 'Leo', 'in', 'vitae', 'turpis', 'massa', 'sed', 'elementum', 'tempus.', 'Sed', 'risus', 'pretium', 'quam', 'vulputate.', 'Pulvinar', 'elementum', 'integer', 'enim', 'neque', 'volutpat', 'ac.', 'Sit', 'amet', 'consectetur', 'adipiscing', 'elit', 'pellentesque', 'habitant', 'morbi', 'tristique.', 'Felis', 'eget', 'velit', 'aliquet', 'sagittis', 'id', 'consectetur', 'purus', 'ut', 'faucibus.', 'Blandit', 'aliquam', 'etiam', 'erat', 'velit.', 'Hendrerit', 'gravida', 'rutrum', 'quisque', 'non', 'tellus.', 'Libero', 'nunc', 'consequat', 'interdum', 'varius', 'sit', 'amet', 'mattis', 'vulputate.', 'Aliquam', 'id', 'diam', 'maecenas', 'ultricies', 'mi', 'eget', 'mauris.', 'Tellus', 'rutrum', 'tellus', 'pellentesque', 'eu.', 'Viverra', 'nibh', 'cras', 'pulvinar', 'mattis', 'nunc.', 'Elementum', 'nibh', 'tellus', 'molestie', 'nunc.', 'Nec', 'feugiat', 'nisl', 'pretium', 'fusce', 'id', 'velit.', 'Odio', 'eu', 'feugiat', 'pretium', 'nibh', 'ipsum.', 'Posuere', 'ac', 'ut', 'consequat', 'semper', 'viverra', 'nam', 'libero', 'justo.', 'Eleifend', 'quam', 'adipiscing', 'vitae', 'proin', 'sagittis', 'nisl.', 'Sit', 'amet', 'mattis', 'vulputate', 'enim', 'nulla', 'aliquet', 'porttitor', 'lacus.', 'Facilisis', 'mauris', 'sit', 'amet', 'massa', 'vitae.', 'Praesent', 'elementum', 'facilisis', 'leo', 'vel.', 'Urna', 'porttitor', 'rhoncus', 'dolor', 'purus', 'non', 'enim', 'praesent.', 'Facilisis', 'gravida', 'neque', 'convallis', 'a', 'cras', 'semper', 'auctor', 'neque.', 'Felis', 'donec', 'et', 'odio', 'pellentesque.', 'Eu', 'turpis', 'egestas', 'pretium', 'aenean.']]\n"
     ]
    }
   ],
   "source": [
    "# What can we do to fix this?\n",
    "# Python has a split() method that can be used to split a string into a list of strings. By default it splits by spaces.\n",
    "\n",
    "with open(\"loremlong.txt\", \"r\") as file:\n",
    "    for line in file:\n",
    "        print(line.split())\n",
    "        \n",
    "        \n",
    "# if you wanted to save this to a list\n",
    "with open(\"loremlong.txt\", \"r\") as file:\n",
    "    for line in file:\n",
    "        words = line.split()\n",
    "        print(words)\n",
    "\n",
    "# another way to write this (this creates a list of lists)\n",
    "words_stripped = []\n",
    "with open(\"loremlong.txt\", \"r\") as file:\n",
    "    for line in file:\n",
    "        words_stripped.append(line.split())\n",
    "\n",
    "print(words_stripped)\n",
    "# example above is meant to show how different ways of doing the same thing can be done but can adversely affect the output.\n"
   ]
  },
  {
   "cell_type": "code",
   "execution_count": 31,
   "metadata": {},
   "outputs": [
    {
     "name": "stdout",
     "output_type": "stream",
     "text": [
      "['Lorem ipsum dolor sit amet consectetur adipiscing elit sed do eiusmod tempor incididunt ut labore et dolore magna aliqua', ' Pharetra magna ac placerat vestibulum lectus mauris ultrices', '    Porttitor lacus luctus accumsan tortor posuere ac ut', ' In ornare quam viverra orci', ' Eget lorem dolor sed viverra ipsum nunc', ' Fusce id velit ut tortor', ' Mi in nulla posuere sollicitudin aliquam ultrices sagittis orci', ' Nunc scelerisque viverra mauris in aliquam', ' Sed adipiscing diam donec adipiscing tristique risus nec feugiat', ' Turpis massa tincidunt dui ut ornare', ' At erat pellentesque adipiscing commodo elit at imperdiet', ' Aliquam sem fringilla ut morbi', ' Blandit turpis cursus in hac habitasse platea', ' Magna sit amet purus gravida quis blandit', ' Diam quam nulla porttitor massa', ' Pellentesque massa placerat duis ultricies', ' Adipiscing enim eu turpis egestas pretium aenean', ' Suspendisse interdum consectetur libero id faucibus nisl tincidunt eget nullam', ' Suspendisse in est ante in', ' Suspendisse ultrices gravida dictum fusce ut placerat orci', ' Egestas tellus rutrum tellus pellentesque eu tincidunt tortor aliquam', ' Mauris cursus mattis molestie a iaculis at', ' Orci nulla pellentesque dignissim enim sit amet venenatis', ' Sollicitudin ac orci phasellus egestas tellus rutrum tellus pellentesque', ' Ultrices neque ornare aenean euismod elementum nisi quis eleifend', ' Suspendisse interdum consectetur libero id faucibus', ' Elementum facilisis leo vel fringilla est ullamcorper eget nulla facilisi', ' Dolor sed viverra ipsum nunc aliquet bibendum enim', ' Odio pellentesque diam volutpat commodo sed egestas egestas fringilla phasellus', ' Enim nunc faucibus a pellentesque sit', ' Mi ipsum faucibus vitae aliquet', ' Eu scelerisque felis imperdiet proin fermentum leo vel orci', ' Sed vulputate odio ut enim blandit volutpat maecenas', ' At quis risus sed vulputate odio ut enim blandit', ' Feugiat in fermentum posuere urna nec', ' Non enim praesent elementum facilisis', ' Viverra vitae congue eu consequat ac felis donec', ' Tellus in hac habitasse platea dictumst vestibulum rhoncus', ' Quis ipsum suspendisse ultrices gravida dictum fusce ut placerat', ' Etiam non quam lacus suspendisse faucibus interdum posuere lorem ipsum', ' Arcu dui vivamus arcu felis bibendum ut tristique', ' A pellentesque sit amet porttitor eget dolor morbi non arcu', ' Neque convallis a cras semper auctor neque', ' Cursus eget nunc scelerisque viverra mauris in aliquam sem', ' Suspendisse interdum consectetur libero id faucibus nisl tincidunt', ' Vitae justo eget magna fermentum iaculis eu non', ' Vestibulum morbi blandit cursus risus at ultrices mi', ' Blandit massa enim nec dui nunc mattis enim', ' Mi eget mauris pharetra et ultrices neque', ' A diam sollicitudin tempor id eu', ' Volutpat diam ut venenatis tellus in metus vulputate eu', ' Dignissim convallis aenean et tortor', ' Tellus rutrum tellus pellentesque eu tincidunt', ' Posuere lorem ipsum dolor sit amet consectetur adipiscing elit', ' In pellentesque massa placerat duis ultricies lacus sed turpis tincidunt', ' Eget nunc scelerisque viverra mauris', ' Augue neque gravida in fermentum', ' Leo in vitae turpis massa sed elementum tempus', ' Sed risus pretium quam vulputate', ' Pulvinar elementum integer enim neque volutpat ac', ' Sit amet consectetur adipiscing elit pellentesque habitant morbi tristique', ' Felis eget velit aliquet sagittis id consectetur purus ut faucibus', ' Blandit aliquam etiam erat velit', ' Hendrerit gravida rutrum quisque non tellus', ' Libero nunc consequat interdum varius sit amet mattis vulputate', ' Aliquam id diam maecenas ultricies mi eget mauris', ' Tellus rutrum tellus pellentesque eu', ' Viverra nibh cras pulvinar mattis nunc', ' Elementum nibh tellus molestie nunc', ' Nec feugiat nisl pretium fusce id velit', ' Odio eu feugiat pretium nibh ipsum', ' Posuere ac ut consequat semper viverra nam libero justo', ' Eleifend quam adipiscing vitae proin sagittis nisl', ' Sit amet mattis vulputate enim nulla aliquet porttitor lacus', ' Facilisis mauris sit amet massa vitae', ' Praesent elementum facilisis leo vel', ' Urna porttitor rhoncus dolor purus non enim praesent', ' Facilisis gravida neque convallis a cras semper auctor neque', ' Felis donec et odio pellentesque', ' Eu turpis egestas pretium aenean', '']\n",
      "Lorem ipsum dolor sit amet consectetur adipiscing elit sed do eiusmod tempor incididunt ut labore et dolore magna aliqua\n",
      "Pharetra magna ac placerat vestibulum lectus mauris ultrices\n",
      "Porttitor lacus luctus accumsan tortor posuere ac ut\n",
      "In ornare quam viverra orci\n",
      "Eget lorem dolor sed viverra ipsum nunc\n",
      "Fusce id velit ut tortor\n",
      "Mi in nulla posuere sollicitudin aliquam ultrices sagittis orci\n",
      "Nunc scelerisque viverra mauris in aliquam\n",
      "Sed adipiscing diam donec adipiscing tristique risus nec feugiat\n",
      "Turpis massa tincidunt dui ut ornare\n",
      "At erat pellentesque adipiscing commodo elit at imperdiet\n",
      "Aliquam sem fringilla ut morbi\n",
      "Blandit turpis cursus in hac habitasse platea\n",
      "Magna sit amet purus gravida quis blandit\n",
      "Diam quam nulla porttitor massa\n",
      "Pellentesque massa placerat duis ultricies\n",
      "Adipiscing enim eu turpis egestas pretium aenean\n",
      "Suspendisse interdum consectetur libero id faucibus nisl tincidunt eget nullam\n",
      "Suspendisse in est ante in\n",
      "Suspendisse ultrices gravida dictum fusce ut placerat orci\n",
      "Egestas tellus rutrum tellus pellentesque eu tincidunt tortor aliquam\n",
      "Mauris cursus mattis molestie a iaculis at\n",
      "Orci nulla pellentesque dignissim enim sit amet venenatis\n",
      "Sollicitudin ac orci phasellus egestas tellus rutrum tellus pellentesque\n",
      "Ultrices neque ornare aenean euismod elementum nisi quis eleifend\n",
      "Suspendisse interdum consectetur libero id faucibus\n",
      "Elementum facilisis leo vel fringilla est ullamcorper eget nulla facilisi\n",
      "Dolor sed viverra ipsum nunc aliquet bibendum enim\n",
      "Odio pellentesque diam volutpat commodo sed egestas egestas fringilla phasellus\n",
      "Enim nunc faucibus a pellentesque sit\n",
      "Mi ipsum faucibus vitae aliquet\n",
      "Eu scelerisque felis imperdiet proin fermentum leo vel orci\n",
      "Sed vulputate odio ut enim blandit volutpat maecenas\n",
      "At quis risus sed vulputate odio ut enim blandit\n",
      "Feugiat in fermentum posuere urna nec\n",
      "Non enim praesent elementum facilisis\n",
      "Viverra vitae congue eu consequat ac felis donec\n",
      "Tellus in hac habitasse platea dictumst vestibulum rhoncus\n",
      "Quis ipsum suspendisse ultrices gravida dictum fusce ut placerat\n",
      "Etiam non quam lacus suspendisse faucibus interdum posuere lorem ipsum\n",
      "Arcu dui vivamus arcu felis bibendum ut tristique\n",
      "A pellentesque sit amet porttitor eget dolor morbi non arcu\n",
      "Neque convallis a cras semper auctor neque\n",
      "Cursus eget nunc scelerisque viverra mauris in aliquam sem\n",
      "Suspendisse interdum consectetur libero id faucibus nisl tincidunt\n",
      "Vitae justo eget magna fermentum iaculis eu non\n",
      "Vestibulum morbi blandit cursus risus at ultrices mi\n",
      "Blandit massa enim nec dui nunc mattis enim\n",
      "Mi eget mauris pharetra et ultrices neque\n",
      "A diam sollicitudin tempor id eu\n",
      "Volutpat diam ut venenatis tellus in metus vulputate eu\n",
      "Dignissim convallis aenean et tortor\n",
      "Tellus rutrum tellus pellentesque eu tincidunt\n",
      "Posuere lorem ipsum dolor sit amet consectetur adipiscing elit\n",
      "In pellentesque massa placerat duis ultricies lacus sed turpis tincidunt\n",
      "Eget nunc scelerisque viverra mauris\n",
      "Augue neque gravida in fermentum\n",
      "Leo in vitae turpis massa sed elementum tempus\n",
      "Sed risus pretium quam vulputate\n",
      "Pulvinar elementum integer enim neque volutpat ac\n",
      "Sit amet consectetur adipiscing elit pellentesque habitant morbi tristique\n",
      "Felis eget velit aliquet sagittis id consectetur purus ut faucibus\n",
      "Blandit aliquam etiam erat velit\n",
      "Hendrerit gravida rutrum quisque non tellus\n",
      "Libero nunc consequat interdum varius sit amet mattis vulputate\n",
      "Aliquam id diam maecenas ultricies mi eget mauris\n",
      "Tellus rutrum tellus pellentesque eu\n",
      "Viverra nibh cras pulvinar mattis nunc\n",
      "Elementum nibh tellus molestie nunc\n",
      "Nec feugiat nisl pretium fusce id velit\n",
      "Odio eu feugiat pretium nibh ipsum\n",
      "Posuere ac ut consequat semper viverra nam libero justo\n",
      "Eleifend quam adipiscing vitae proin sagittis nisl\n",
      "Sit amet mattis vulputate enim nulla aliquet porttitor lacus\n",
      "Facilisis mauris sit amet massa vitae\n",
      "Praesent elementum facilisis leo vel\n",
      "Urna porttitor rhoncus dolor purus non enim praesent\n",
      "Facilisis gravida neque convallis a cras semper auctor neque\n",
      "Felis donec et odio pellentesque\n",
      "Eu turpis egestas pretium aenean\n",
      "\n"
     ]
    }
   ],
   "source": [
    "# loremlong.txt has periods to seperate the sentences. We can use the split method to split the sentences into a list of sentences.\n",
    "\n",
    "with open(\"loremlong.txt\", \"r\") as file:\n",
    "    for line in file:\n",
    "        sentences = line.split(\".\")\n",
    "        print(sentences)\n",
    "        \n",
    "# Notice the '.' is missing from the sentences.\n",
    "# Also notice there is spaces in the sentence after the split. We can use the strip method to remove the spaces.\n",
    "with open(\"loremlong.txt\", \"r\") as file:\n",
    "    for line in file:\n",
    "        sentences = line.split(\".\")\n",
    "        for sentence in sentences:\n",
    "            print(sentence.strip())\n",
    "            \n",
    "\n",
    "\n",
    "    "
   ]
  },
  {
   "cell_type": "code",
   "execution_count": 53,
   "metadata": {},
   "outputs": [
    {
     "name": "stdout",
     "output_type": "stream",
     "text": [
      "['Lorem ipsum dolor sit amet consectetur adipiscing elit sed do eiusmod tempor incididunt ut labore et dolore magna aliqua', 'Pharetra magna ac placerat vestibulum lectus mauris ultrices', 'Porttitor lacus luctus accumsan tortor posuere ac ut', 'In ornare quam viverra orci', 'Eget lorem dolor sed viverra ipsum nunc', 'Fusce id velit ut tortor', 'Mi in nulla posuere sollicitudin aliquam ultrices sagittis orci', 'Nunc scelerisque viverra mauris in aliquam', 'Sed adipiscing diam donec adipiscing tristique risus nec feugiat', 'Turpis massa tincidunt dui ut ornare', 'At erat pellentesque adipiscing commodo elit at imperdiet', 'Aliquam sem fringilla ut morbi', 'Blandit turpis cursus in hac habitasse platea', 'Magna sit amet purus gravida quis blandit', 'Diam quam nulla porttitor massa', 'Pellentesque massa placerat duis ultricies', 'Adipiscing enim eu turpis egestas pretium aenean', 'Suspendisse interdum consectetur libero id faucibus nisl tincidunt eget nullam', 'Suspendisse in est ante in', 'Suspendisse ultrices gravida dictum fusce ut placerat orci', 'Egestas tellus rutrum tellus pellentesque eu tincidunt tortor aliquam', 'Mauris cursus mattis molestie a iaculis at', 'Orci nulla pellentesque dignissim enim sit amet venenatis', 'Sollicitudin ac orci phasellus egestas tellus rutrum tellus pellentesque', 'Ultrices neque ornare aenean euismod elementum nisi quis eleifend', 'Suspendisse interdum consectetur libero id faucibus', 'Elementum facilisis leo vel fringilla est ullamcorper eget nulla facilisi', 'Dolor sed viverra ipsum nunc aliquet bibendum enim', 'Odio pellentesque diam volutpat commodo sed egestas egestas fringilla phasellus', 'Enim nunc faucibus a pellentesque sit', 'Mi ipsum faucibus vitae aliquet', 'Eu scelerisque felis imperdiet proin fermentum leo vel orci', 'Sed vulputate odio ut enim blandit volutpat maecenas', 'At quis risus sed vulputate odio ut enim blandit', 'Feugiat in fermentum posuere urna nec', 'Non enim praesent elementum facilisis', 'Viverra vitae congue eu consequat ac felis donec', 'Tellus in hac habitasse platea dictumst vestibulum rhoncus', 'Quis ipsum suspendisse ultrices gravida dictum fusce ut placerat', 'Etiam non quam lacus suspendisse faucibus interdum posuere lorem ipsum', 'Arcu dui vivamus arcu felis bibendum ut tristique', 'A pellentesque sit amet porttitor eget dolor morbi non arcu', 'Neque convallis a cras semper auctor neque', 'Cursus eget nunc scelerisque viverra mauris in aliquam sem', 'Suspendisse interdum consectetur libero id faucibus nisl tincidunt', 'Vitae justo eget magna fermentum iaculis eu non', 'Vestibulum morbi blandit cursus risus at ultrices mi', 'Blandit massa enim nec dui nunc mattis enim', 'Mi eget mauris pharetra et ultrices neque', 'A diam sollicitudin tempor id eu', 'Volutpat diam ut venenatis tellus in metus vulputate eu', 'Dignissim convallis aenean et tortor', 'Tellus rutrum tellus pellentesque eu tincidunt', 'Posuere lorem ipsum dolor sit amet consectetur adipiscing elit', 'In pellentesque massa placerat duis ultricies lacus sed turpis tincidunt', 'Eget nunc scelerisque viverra mauris', 'Augue neque gravida in fermentum', 'Leo in vitae turpis massa sed elementum tempus', 'Sed risus pretium quam vulputate', 'Pulvinar elementum integer enim neque volutpat ac', 'Sit amet consectetur adipiscing elit pellentesque habitant morbi tristique', 'Felis eget velit aliquet sagittis id consectetur purus ut faucibus', 'Blandit aliquam etiam erat velit', 'Hendrerit gravida rutrum quisque non tellus', 'Libero nunc consequat interdum varius sit amet mattis vulputate', 'Aliquam id diam maecenas ultricies mi eget mauris', 'Tellus rutrum tellus pellentesque eu', 'Viverra nibh cras pulvinar mattis nunc', 'Elementum nibh tellus molestie nunc', 'Nec feugiat nisl pretium fusce id velit', 'Odio eu feugiat pretium nibh ipsum', 'Posuere ac ut consequat semper viverra nam libero justo', 'Eleifend quam adipiscing vitae proin sagittis nisl', 'Sit amet mattis vulputate enim nulla aliquet porttitor lacus', 'Facilisis mauris sit amet massa vitae', 'Praesent elementum facilisis leo vel', 'Urna porttitor rhoncus dolor purus non enim praesent', 'Facilisis gravida neque convallis a cras semper auctor neque', 'Felis donec et odio pellentesque', 'Eu turpis egestas pretium aenean', '']\n"
     ]
    }
   ],
   "source": [
    "# if you wanted to save this to a list\n",
    "with open(\"loremlong.txt\", \"r\") as file:\n",
    "    for line in file:\n",
    "        sentences_saved = line.split(\".\")       \n",
    "\n",
    "\n",
    "\n",
    "sentences_stripped = []\n",
    "for line in sentences_saved:\n",
    "    sentences_stripped.append(line.strip())\n",
    "print(sentences_stripped)"
   ]
  },
  {
   "cell_type": "code",
   "execution_count": 67,
   "metadata": {},
   "outputs": [
    {
     "name": "stdout",
     "output_type": "stream",
     "text": [
      "Lorem ipsum dolor sit amet consectetur adipiscing elit sed do eiusmod tempor incididunt ut labore et dolore magna aliqua\n",
      "Pharetra magna ac placerat vestibulum lectus mauris ultrices\n",
      "Porttitor lacus luctus accumsan tortor posuere ac ut\n",
      "In ornare quam viverra orci\n",
      "Eget lorem dolor sed viverra ipsum nunc\n",
      "Fusce id velit ut tortor\n",
      "Mi in nulla posuere sollicitudin aliquam ultrices sagittis orci\n",
      "Nunc scelerisque viverra mauris in aliquam\n",
      "Sed adipiscing diam donec adipiscing tristique risus nec feugiat\n",
      "Turpis massa tincidunt dui ut ornare\n",
      "At erat pellentesque adipiscing commodo elit at imperdiet\n",
      "Aliquam sem fringilla ut morbi\n",
      "Blandit turpis cursus in hac habitasse platea\n",
      "Magna sit amet purus gravida quis blandit\n",
      "Diam quam nulla porttitor massa\n",
      "Pellentesque massa placerat duis ultricies\n",
      "Adipiscing enim eu turpis egestas pretium aenean\n",
      "Suspendisse interdum consectetur libero id faucibus nisl tincidunt eget nullam\n",
      "Suspendisse in est ante in\n",
      "Suspendisse ultrices gravida dictum fusce ut placerat orci\n",
      "Egestas tellus rutrum tellus pellentesque eu tincidunt tortor aliquam\n",
      "Mauris cursus mattis molestie a iaculis at\n",
      "Orci nulla pellentesque dignissim enim sit amet venenatis\n",
      "Sollicitudin ac orci phasellus egestas tellus rutrum tellus pellentesque\n",
      "Ultrices neque ornare aenean euismod elementum nisi quis eleifend\n",
      "Suspendisse interdum consectetur libero id faucibus\n",
      "Elementum facilisis leo vel fringilla est ullamcorper eget nulla facilisi\n",
      "Dolor sed viverra ipsum nunc aliquet bibendum enim\n",
      "Odio pellentesque diam volutpat commodo sed egestas egestas fringilla phasellus\n",
      "Enim nunc faucibus a pellentesque sit\n",
      "Mi ipsum faucibus vitae aliquet\n",
      "Eu scelerisque felis imperdiet proin fermentum leo vel orci\n",
      "Sed vulputate odio ut enim blandit volutpat maecenas\n",
      "At quis risus sed vulputate odio ut enim blandit\n",
      "Feugiat in fermentum posuere urna nec\n",
      "Non enim praesent elementum facilisis\n",
      "Viverra vitae congue eu consequat ac felis donec\n",
      "Tellus in hac habitasse platea dictumst vestibulum rhoncus\n",
      "Quis ipsum suspendisse ultrices gravida dictum fusce ut placerat\n",
      "Etiam non quam lacus suspendisse faucibus interdum posuere lorem ipsum\n",
      "Arcu dui vivamus arcu felis bibendum ut tristique\n",
      "A pellentesque sit amet porttitor eget dolor morbi non arcu\n",
      "Neque convallis a cras semper auctor neque\n",
      "Cursus eget nunc scelerisque viverra mauris in aliquam sem\n",
      "Suspendisse interdum consectetur libero id faucibus nisl tincidunt\n",
      "Vitae justo eget magna fermentum iaculis eu non\n",
      "Vestibulum morbi blandit cursus risus at ultrices mi\n",
      "Blandit massa enim nec dui nunc mattis enim\n",
      "Mi eget mauris pharetra et ultrices neque\n",
      "A diam sollicitudin tempor id eu\n",
      "Volutpat diam ut venenatis tellus in metus vulputate eu\n",
      "Dignissim convallis aenean et tortor\n",
      "Tellus rutrum tellus pellentesque eu tincidunt\n",
      "Posuere lorem ipsum dolor sit amet consectetur adipiscing elit\n",
      "In pellentesque massa placerat duis ultricies lacus sed turpis tincidunt\n",
      "Eget nunc scelerisque viverra mauris\n",
      "Augue neque gravida in fermentum\n",
      "Leo in vitae turpis massa sed elementum tempus\n",
      "Sed risus pretium quam vulputate\n",
      "Pulvinar elementum integer enim neque volutpat ac\n",
      "Sit amet consectetur adipiscing elit pellentesque habitant morbi tristique\n",
      "Felis eget velit aliquet sagittis id consectetur purus ut faucibus\n",
      "Blandit aliquam etiam erat velit\n",
      "Hendrerit gravida rutrum quisque non tellus\n",
      "Libero nunc consequat interdum varius sit amet mattis vulputate\n",
      "Aliquam id diam maecenas ultricies mi eget mauris\n",
      "Tellus rutrum tellus pellentesque eu\n",
      "Viverra nibh cras pulvinar mattis nunc\n",
      "Elementum nibh tellus molestie nunc\n",
      "Nec feugiat nisl pretium fusce id velit\n",
      "Odio eu feugiat pretium nibh ipsum\n",
      "Posuere ac ut consequat semper viverra nam libero justo\n",
      "Eleifend quam adipiscing vitae proin sagittis nisl\n",
      "Sit amet mattis vulputate enim nulla aliquet porttitor lacus\n",
      "Facilisis mauris sit amet massa vitae\n",
      "Praesent elementum facilisis leo vel\n",
      "Urna porttitor rhoncus dolor purus non enim praesent\n",
      "Facilisis gravida neque convallis a cras semper auctor neque\n",
      "Felis donec et odio pellentesque\n",
      "Eu turpis egestas pretium aenean\n",
      "\n"
     ]
    }
   ],
   "source": [
    "# using the stripped list lets save that to a new files called loremlong_stripped.txt\n",
    "with open(\"loremlong_stripped.txt\", \"w\") as file:\n",
    "    for line in sentences_stripped:\n",
    "        file.write(line + \".\\n\")\n",
    "\n",
    "\n",
    "\n",
    "# Note about strip. You can use the strip method to remove any character from the beginning or end of a string.\n",
    "for line in sentences_stripped:\n",
    "    print(line.strip(\".\"))\n",
    "\n",
    "\n"
   ]
  },
  {
   "cell_type": "code",
   "execution_count": 66,
   "metadata": {},
   "outputs": [],
   "source": [
    "# Append will add to the end of the file, write will overwrite the file\n",
    "with open(\"loremlong_stripped.txt\", \"a\") as file:\n",
    "    for line in sentences_stripped:\n",
    "        file.write(line + \".\\n\")\n",
    "        \n",
    "# The above code will add the contents of the file to the end of the loremlong_stripped. If you wanted to overwrite the file you would use the \"w\" mode.\n"
   ]
  }
 ],
 "metadata": {
  "kernelspec": {
   "display_name": "venv",
   "language": "python",
   "name": "python3"
  },
  "language_info": {
   "codemirror_mode": {
    "name": "ipython",
    "version": 3
   },
   "file_extension": ".py",
   "mimetype": "text/x-python",
   "name": "python",
   "nbconvert_exporter": "python",
   "pygments_lexer": "ipython3",
   "version": "3.12.2"
  }
 },
 "nbformat": 4,
 "nbformat_minor": 2
}
