{
 "cells": [
  {
   "cell_type": "markdown",
   "metadata": {},
   "source": [
    "### Python Virtual Environments:"
   ]
  },
  {
   "cell_type": "markdown",
   "metadata": {},
   "source": [
    "A Virtual Environment is a tool to keep dependencies required by different projects in separate places. It solves the “Project X depends on version 1.x but, Project Y needs 4.x” dilemma and keeps your global site-packages directory clean and manageable.\n",
    "\n",
    "A virtual environment is a tool that helps keep dependencies required by differents projects seperate by created isolated python virtual envionments for them. This is one of the most important tools that most of python developers use."
   ]
  },
  {
   "cell_type": "code",
   "execution_count": 5,
   "metadata": {},
   "outputs": [],
   "source": [
    "# How do we create a python virtual environment?\n",
    "# Run this in your terminal\n",
    "# Note: \"myenv\" is the name of the virtual environment\n",
    "# python3 -m venv myenv\n",
    "\n",
    "# How do i activate my virtual environment?\n",
    "# On Mac and Linux\n",
    "# source myenv/bin/activate\n",
    "\n",
    "# On Windows\n",
    "# .\\venv\\Scripts\\activate\n",
    "\n",
    "import sys\n",
    "import requests\n",
    "import pytest"
   ]
  }
 ],
 "metadata": {
  "kernelspec": {
   "display_name": "Python 3",
   "language": "python",
   "name": "python3"
  },
  "language_info": {
   "codemirror_mode": {
    "name": "ipython",
    "version": 3
   },
   "file_extension": ".py",
   "mimetype": "text/x-python",
   "name": "python",
   "nbconvert_exporter": "python",
   "pygments_lexer": "ipython3",
   "version": "3.12.2"
  }
 },
 "nbformat": 4,
 "nbformat_minor": 2
}
