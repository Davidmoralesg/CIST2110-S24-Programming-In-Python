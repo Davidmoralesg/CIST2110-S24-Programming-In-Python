{
 "cells": [
  {
   "cell_type": "markdown",
   "metadata": {},
   "source": [
    "# Python Lists and Tuples"
   ]
  },
  {
   "cell_type": "markdown",
   "metadata": {},
   "source": [
    "## Intro\n",
    "\n",
    "- both lists and tuples are used to store collections of items in python\n",
    "- the primary difference between the two is that lists are mutable and tuples are immutable\n",
    "\n",
    "**immutable** - cannot be changed after creation"
   ]
  },
  {
   "cell_type": "markdown",
   "metadata": {},
   "source": [
    "### Lists\n",
    "\n",
    "  - lists are ordered collections of items, which can be of different types\n",
    "  - lists are mutable, meaning that the items they contain can be changed\n",
    "  - lists are created using square brackets `[]` and items are separated by commas `,`"
   ]
  },
  {
   "cell_type": "code",
   "execution_count": 65,
   "metadata": {},
   "outputs": [],
   "source": [
    "# Lists can be of numbers\n",
    "my_list_numbers = [1, 2, 3, 4, 5]\n",
    "# Integer index\n",
    "# 1  2  3  4  5\n",
    "# 0  1  2  3  4 - index\n",
    "#-5 -4 -3 -2 -1 - reverse index\n",
    "# Lists can be of strings\n",
    "my_list = [\"Diana\",\"Eve\",\"Charlie\",\"Bob\",\"Alice\"]\n",
    "# Lists can be of mixed types (Even a list inside a list)\n",
    "mix_list = [1, \"Diana\", 3.14, True, [1,2,3]]\n"
   ]
  },
  {
   "cell_type": "code",
   "execution_count": 8,
   "metadata": {},
   "outputs": [
    {
     "name": "stdout",
     "output_type": "stream",
     "text": [
      "[1, 2, 3, 4, 5]\n",
      "1\n",
      "1\n",
      "5\n",
      "5\n"
     ]
    }
   ],
   "source": [
    "## Accessing elements in a list\n",
    "# Access whole list\n",
    "print(my_list_numbers)\n",
    "# Access first element\n",
    "print(my_list_numbers[0]) # use square brackets notation\n",
    "# Note: You must use an integer index (see above)\n",
    "print(my_list_numbers[-5]) # reverse index\n",
    "print(my_list_numbers[-1]) # last element - This is the preferred way to access the last element\n",
    "print(my_list_numbers[4]) # last element\n",
    "\n",
    "#print(my_list_numbers[5]) # IndexError: list index out of range"
   ]
  },
  {
   "cell_type": "code",
   "execution_count": 14,
   "metadata": {},
   "outputs": [
    {
     "name": "stdout",
     "output_type": "stream",
     "text": [
      "[1, 2, 3]\n",
      "[2, 3, 4, 5]\n",
      "[1, 2, 3]\n"
     ]
    }
   ],
   "source": [
    "## List Slicing\n",
    "# Access a range of elements\n",
    "print(my_list_numbers[0:3]) # [1, 2, 3] up to but not including 3\n",
    "print(my_list_numbers[1:])  # [2, 3, 4, 5] from 1 to the end\n",
    "print(my_list_numbers[:3])  # [1, 2, 3] from the beginning to 3"
   ]
  },
  {
   "cell_type": "code",
   "execution_count": 16,
   "metadata": {},
   "outputs": [
    {
     "name": "stdout",
     "output_type": "stream",
     "text": [
      "[100, 2, 3, 4, 5]\n"
     ]
    }
   ],
   "source": [
    "## Modifying elements in a list\n",
    "# Change an element\n",
    "my_list_numbers[0] = 100\n",
    "print(my_list_numbers) # [100, 2, 3, 4, 5]"
   ]
  },
  {
   "cell_type": "code",
   "execution_count": 28,
   "metadata": {},
   "outputs": [
    {
     "name": "stdout",
     "output_type": "stream",
     "text": [
      "[4, 5]\n"
     ]
    }
   ],
   "source": [
    "## Deleting elements in a list\n",
    "# Delete an element\n",
    "del my_list_numbers[0]\n",
    "print(my_list_numbers) # [2, 3, 4, 5]"
   ]
  },
  {
   "cell_type": "code",
   "execution_count": 41,
   "metadata": {},
   "outputs": [
    {
     "name": "stdout",
     "output_type": "stream",
     "text": [
      "[1, 2, 3, 4, 5, 99, 99, 99, 99, 99, 99, 99, 99, 99, 99, 99, 99]\n"
     ]
    }
   ],
   "source": [
    "my_list_numbers.append(99)\n",
    "print(my_list_numbers) # [2, 3, 4, 5, 99]"
   ]
  },
  {
   "cell_type": "code",
   "execution_count": 46,
   "metadata": {},
   "outputs": [
    {
     "name": "stdout",
     "output_type": "stream",
     "text": [
      "[1, 2, 100, 100, 100, 3, 4, 5, 99, 99, 99, 99, 99, 99, 99, 99, 99, 99, 99, 99, 100]\n",
      "['Alice', 'Bob', 'Charlie', 'Diana', 'Eve']\n"
     ]
    }
   ],
   "source": [
    "# Appending will add the element to the end of the list\n",
    "# to insert at a specific index use insert\n",
    "my_list_numbers.insert(2, 100) # Insert object before index.\n",
    "print(my_list_numbers) # [2, 3, 100, 4, 5, 99]\n",
    "my_list.sort()\n",
    "print(my_list) # ['Alice', 'Bob', 'Charlie', 'Diana', 'Eve']\n",
    "# mix_list.sort() # TypeError: '<' not supported between instances of 'str' and 'int'\n",
    "# sort() is only for lists of the same type"
   ]
  },
  {
   "cell_type": "code",
   "execution_count": 43,
   "metadata": {},
   "outputs": [
    {
     "name": "stdout",
     "output_type": "stream",
     "text": [
      "[1, 2, 3, 4, 5, 99, 99, 99, 99, 99, 99, 99, 99, 99, 99, 99, 99, 100]\n"
     ]
    }
   ],
   "source": [
    "my_list_numbers.sort()\n",
    "print(my_list_numbers)\n",
    "# Python's sort method is called Timsort"
   ]
  },
  {
   "cell_type": "code",
   "execution_count": 49,
   "metadata": {},
   "outputs": [
    {
     "name": "stdout",
     "output_type": "stream",
     "text": [
      "[]\n"
     ]
    }
   ],
   "source": [
    "## Clear all elements in a list\n",
    "my_list_numbers.clear()\n",
    "print(my_list_numbers) # []\n"
   ]
  },
  {
   "cell_type": "code",
   "execution_count": 60,
   "metadata": {},
   "outputs": [
    {
     "name": "stdout",
     "output_type": "stream",
     "text": [
      "['Eve', 'Diana', 'Charlie', 'Bob', 'Alice']\n"
     ]
    }
   ],
   "source": [
    "## reverse a list\n",
    "my_list.reverse()\n",
    "print(my_list) # ['Eve', 'Diana', 'Charlie', 'Bob', 'Alice']"
   ]
  },
  {
   "cell_type": "code",
   "execution_count": 63,
   "metadata": {},
   "outputs": [
    {
     "name": "stdout",
     "output_type": "stream",
     "text": [
      "2\n"
     ]
    }
   ],
   "source": [
    "## Count the number of times an element appears in a list\n",
    "print(my_list.count(\"Diana\")) # 1"
   ]
  },
  {
   "cell_type": "code",
   "execution_count": 66,
   "metadata": {},
   "outputs": [
    {
     "name": "stdout",
     "output_type": "stream",
     "text": [
      "5\n"
     ]
    }
   ],
   "source": [
    "## Length of a list\n",
    "print(len(my_list)) # 5"
   ]
  },
  {
   "cell_type": "markdown",
   "metadata": {},
   "source": [
    "### Advanced Lists Topics\n",
    "    \n",
    "- iterating over lists\n",
    "- list comprehensions\n",
    "- 2D lists (lists of lists)"
   ]
  },
  {
   "cell_type": "code",
   "execution_count": 69,
   "metadata": {},
   "outputs": [
    {
     "name": "stdout",
     "output_type": "stream",
     "text": [
      "Diana\n",
      "Eve\n",
      "Charlie\n",
      "Bob\n",
      "Alice\n"
     ]
    }
   ],
   "source": [
    "## Iterate over a list\n",
    "for name in my_list:\n",
    "    print(name)"
   ]
  },
  {
   "cell_type": "code",
   "execution_count": 71,
   "metadata": {},
   "outputs": [
    {
     "name": "stdout",
     "output_type": "stream",
     "text": [
      "0 Diana\n",
      "1 Eve\n",
      "2 Charlie\n",
      "3 Bob\n",
      "4 Alice\n"
     ]
    }
   ],
   "source": [
    "## Iterating over a list with enumerate\n",
    "for index, name in enumerate(my_list):\n",
    "    print(index, name)\n",
    "    \n",
    "# Note: enumerate returns a tuple with the index and the element"
   ]
  },
  {
   "cell_type": "code",
   "execution_count": 74,
   "metadata": {},
   "outputs": [
    {
     "name": "stdout",
     "output_type": "stream",
     "text": [
      "[0, 1, 4, 9, 16, 25, 36, 49, 64, 81]\n",
      "[0, 2, 4, 6, 8]\n",
      "[0, 1, 4, 3, 16, 5, 36, 7, 64, 9]\n"
     ]
    }
   ],
   "source": [
    "## List Comprehension\n",
    "# List comprehension is a concise way to create lists\n",
    "# It consists of brackets containing an expression followed by a for clause\n",
    "# then zero or more for or if clauses\n",
    "\n",
    "squares = []\n",
    "for x in range(10):\n",
    "    squares.append(x**2)\n",
    "\n",
    "print(squares)\n",
    "\n",
    "# List comprehension - same code all in one line\n",
    "squares = [x**2 for x in range(10)]\n",
    "\n",
    "\n",
    "even_numbers = []\n",
    "for x in range(10):\n",
    "    if x % 2 == 0:\n",
    "        even_numbers.append(x)\n",
    "print(even_numbers)\n",
    "\n",
    "even_numbers = [x for x in range(10) if x % 2 == 0]\n",
    "\n",
    "even_numbers_squared = []\n",
    "for i in range(10):\n",
    "    if i % 2 == 0:\n",
    "        even_numbers_squared.append(i**2)\n",
    "    else:\n",
    "        even_numbers_squared.append(i)\n",
    "print(even_numbers_squared)\n",
    "\n",
    "even_numbers_squared = [i**2 if i % 2 == 0 else i for i in range(10)]"
   ]
  },
  {
   "cell_type": "code",
   "execution_count": 75,
   "metadata": {},
   "outputs": [
    {
     "data": {
      "text/plain": [
       "[[1, 2, 3], [4, 5, 6], [7, 8, 9]]"
      ]
     },
     "execution_count": 75,
     "metadata": {},
     "output_type": "execute_result"
    }
   ],
   "source": [
    "## Python 2D Lists and indexing 2D Lists\n",
    "\n",
    "# 2D Lists are lists of lists\n",
    "# 2D Lists are used to store data in a tabular format\n",
    "# 2D Lists are accessed using two indices\n",
    "# 2D Lists are useful for storing matrices and tables\n",
    "# 2D Lists are indexed by [row][column]\n",
    "# 2D Lists are mutable\n",
    "# 2D Lists can be sorted, reversed, and cleared\n",
    "\n",
    "# Example 1\n",
    "# Create a 2D List of 3 rows and 3 columns\n",
    "\n",
    "# 1 2 3 - row 0\n",
    "# 4 5 6 - row 1\n",
    "# 7 8 9 - row 2\n",
    "# 0 1 2 - column index\n",
    "# ROW X COLUMN\n",
    "\n",
    "my_2d_list = [\n",
    "    [1, 2, 3], # row 0\n",
    "    [4, 5, 6], # row 1\n",
    "    [7, 8, 9]  # row 2\n",
    "]\n",
    "my_2d_list"
   ]
  },
  {
   "cell_type": "code",
   "execution_count": 88,
   "metadata": {},
   "outputs": [
    {
     "name": "stdout",
     "output_type": "stream",
     "text": [
      "[[1, 2, 3], [4, 5, 6], [7, 8, 9]]\n",
      "[1, 2, 3]\n",
      "1\n",
      "5\n",
      "1 4 7\n"
     ]
    }
   ],
   "source": [
    "## Accessing elements in a 2D List\n",
    "# Access whole list\n",
    "print(my_2d_list)\n",
    "# Access first element\n",
    "print(my_2d_list[0]) # use square brackets notation\n",
    "# Access first row and first column\n",
    "print(my_2d_list[0][0]) # 1\n",
    "print(my_2d_list[1][1]) # 5\n",
    "# Access first column\n",
    "print(my_2d_list[0][0], my_2d_list[1][0], my_2d_list[2][0]) # 1 4 7 - this is harder to do."
   ]
  },
  {
   "cell_type": "code",
   "execution_count": 92,
   "metadata": {},
   "outputs": [
    {
     "name": "stdout",
     "output_type": "stream",
     "text": [
      "[[1, 2, 3], [4, 5, 6]]\n",
      "[1, 2]\n"
     ]
    }
   ],
   "source": [
    "## List Slicing with 2D Lists\n",
    "# Access a range of elements\n",
    "print(my_2d_list[0:2]) # [[1, 2, 3], [4, 5, 6]] up to but not including 2\n",
    "print(my_2d_list[0][0:2]) # 1st row and 2nd column [2]"
   ]
  },
  {
   "cell_type": "markdown",
   "metadata": {},
   "source": [
    "## Tuples\n",
    "\n",
    "- tuples are ordered collections of items, which can be of different types\n",
    "- tuples are immutable, meaning that the items they contain cannot be changed\n",
    "- tuples are created using parentheses `()` and items are separated by commas `,`\n",
    "- tuples are often used to store related pieces of information, such as a person's name and age\n",
    "- tuples are 'safer' than lists, because they cannot be changed\n",
    "- tuples are faster than lists, because they are immutable"
   ]
  },
  {
   "cell_type": "markdown",
   "metadata": {},
   "source": [
    "### How Tuples and Lists Relate to Java\n",
    "- Tuple - Java Array\n",
    "- List  - Java ArrayList"
   ]
  },
  {
   "cell_type": "code",
   "execution_count": 93,
   "metadata": {},
   "outputs": [
    {
     "name": "stdout",
     "output_type": "stream",
     "text": [
      "(1, 2, 3, 4, 5)\n"
     ]
    }
   ],
   "source": [
    "# Tuples Examples\n",
    "\n",
    "my_tuple = (1, 2, 3, 4, 5) # Size 5 tuple - immutable meaning it is fixed\n",
    "print(my_tuple)"
   ]
  },
  {
   "cell_type": "code",
   "execution_count": 96,
   "metadata": {},
   "outputs": [
    {
     "name": "stdout",
     "output_type": "stream",
     "text": [
      "1\n",
      "5\n"
     ]
    }
   ],
   "source": [
    "## Access elements in a tuple\n",
    "print(my_tuple[0]) # 1\n",
    "print(my_tuple[-1]) # 5"
   ]
  },
  {
   "cell_type": "code",
   "execution_count": 98,
   "metadata": {},
   "outputs": [
    {
     "name": "stdout",
     "output_type": "stream",
     "text": [
      "1\n"
     ]
    },
    {
     "data": {
      "text/plain": [
       "2"
      ]
     },
     "execution_count": 98,
     "metadata": {},
     "output_type": "execute_result"
    }
   ],
   "source": [
    "## Get the count of an element in a tuple\n",
    "print(my_tuple.count(3)) # 1\n",
    "\n",
    "my_tuple.index(3) # 2"
   ]
  },
  {
   "cell_type": "code",
   "execution_count": 100,
   "metadata": {},
   "outputs": [
    {
     "name": "stdout",
     "output_type": "stream",
     "text": [
      "1\n",
      "2\n",
      "3\n",
      "4\n",
      "5\n",
      "0 1\n",
      "1 2\n",
      "2 3\n",
      "3 4\n",
      "4 5\n"
     ]
    }
   ],
   "source": [
    "## Loop through a tuple\n",
    "for i in my_tuple:\n",
    "    print(i)\n",
    "    \n",
    "## Enumerate a tuple\n",
    "for i, v in enumerate(my_tuple):\n",
    "    print(i, v)"
   ]
  },
  {
   "cell_type": "code",
   "execution_count": 105,
   "metadata": {},
   "outputs": [
    {
     "name": "stdout",
     "output_type": "stream",
     "text": [
      "(0, 1, 4, 9, 16, 25, 36, 49, 64, 81)\n",
      "(0, 1, 4, 9, 16, 25, 36, 49, 64, 81)\n"
     ]
    }
   ],
   "source": [
    "## Tuple Comprehension\n",
    "# Note: Use this example for debugging purposes\n",
    "\n",
    "squares = () # 0 size tuple\n",
    "for x in range(10):\n",
    "    squares = squares + (x**2,) # Note: the comma is required to create a single element tuple\n",
    "\n",
    "print(squares)\n",
    "\n",
    "squares_new = tuple(x**2 for x in range(10))\n",
    "print(squares_new)"
   ]
  }
 ],
 "metadata": {
  "kernelspec": {
   "display_name": "venv",
   "language": "python",
   "name": "python3"
  },
  "language_info": {
   "codemirror_mode": {
    "name": "ipython",
    "version": 3
   },
   "file_extension": ".py",
   "mimetype": "text/x-python",
   "name": "python",
   "nbconvert_exporter": "python",
   "pygments_lexer": "ipython3",
   "version": "3.12.2"
  }
 },
 "nbformat": 4,
 "nbformat_minor": 2
}
