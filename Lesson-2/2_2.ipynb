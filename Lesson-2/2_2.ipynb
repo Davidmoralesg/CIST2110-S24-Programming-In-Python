{
 "cells": [
  {
   "cell_type": "markdown",
   "metadata": {},
   "source": [
    "### Boolean Expression"
   ]
  },
  {
   "cell_type": "code",
   "execution_count": 15,
   "metadata": {},
   "outputs": [
    {
     "name": "stdout",
     "output_type": "stream",
     "text": [
      "True\n",
      "False\n",
      "False\n",
      "True\n",
      "False\n",
      "=====================================\n",
      "True\n",
      "=====================================\n",
      "False\n",
      "True\n",
      "=====================================\n",
      "False\n",
      "True\n",
      "False\n",
      "True\n",
      "=====================================\n",
      "True\n",
      "True\n",
      "False\n"
     ]
    }
   ],
   "source": [
    "### Boolean Expressions\n",
    "# Boolean expressions are statements that can be either True or False\n",
    "# As a reminder a boolean statement is a statement that is either True or False, 1 or 0, yes or no\n",
    "# You can use Conditional Statments to evaluate boolean expressions\n",
    "\n",
    "# Boolean Expressions are created using relational operators\n",
    "# Relational Operators are used to compare two values\n",
    "# The relational operators are:\n",
    "# == - Equal to\n",
    "# != - Not equal to\n",
    "# < - Less than\n",
    "# > - Greater than\n",
    "# <= - Less than or equal to\n",
    "# >= - Greater than or equal to\n",
    "\n",
    "# Main thing to rember when doing relation operators is that you should be comparing the same data types\n",
    "# Note when watching lecture back the \"Font Ligatures\" are on and the \"!=\" looks like a single character\n",
    "\n",
    "# Examples:\n",
    "print(5 == 5) # True - 5 is equal to 5\n",
    "print(5 == 6) # False - 5 is not equal to 6\n",
    "print(5 == '5') # False - Different data types int == char\n",
    "print('5' == '5') # True - char == char\n",
    "print('5' == '6') # False - char != char\n",
    "print(\"=====================================\")\n",
    "print(\"Greg\" == \"Greg\") # True - Str == Str\n",
    "print(\"=====================================\")\n",
    "# Not equal to\n",
    "print(5 != 5) # False - 5 is equal to 5\n",
    "print(5 != 6) # True - 5 is not equal to 6\n",
    "print(\"=====================================\")\n",
    "# Less than and greater than\n",
    "print(5 < 5) # False - 5 is not less than 5\n",
    "print(5 < 6) # True - 5 is less than 6\n",
    "print(6 < 5) # False - 6 is not less than 5\n",
    "print(6 > 5) # True - 6 is greater than 5\n",
    "print(\"=====================================\")\n",
    "# less than or equal to and greater than or equal to\n",
    "print(5 <= 5) # True - 5 is less than or equal to 5\n",
    "print(5 <= 6) # True - 5 is less than 6\n",
    "print(6 <= 5) # False - 6 is not less than 5"
   ]
  },
  {
   "cell_type": "code",
   "execution_count": 26,
   "metadata": {},
   "outputs": [
    {
     "name": "stdout",
     "output_type": "stream",
     "text": [
      "False\n",
      "0.30000000000000004\n",
      "False\n",
      "=====================================\n",
      "1e-05\n",
      "0.30000000000000004\n",
      "5.551115123125783e-17\n",
      "True\n",
      "This is the start of my float\n",
      "0.30000000000000004\n",
      "True\n"
     ]
    }
   ],
   "source": [
    "## Boolean Expression Caveats\n",
    "# When comparing floats you should use a tolerance\n",
    "# When comparing strings you should be aware of case sensitivity\n",
    "\n",
    "# Floats are stored as approximations in memory\n",
    "# This means that sometimes when you compare two floats that should be equal, they will not be equal\n",
    "\n",
    "# Example:\n",
    "print(0.1 + 0.1 + 0.1 == 0.3) # False - 0.1 + 0.1 + 0.1 is not equal to 0.3\n",
    "print(0.1 + 0.1 + 0.1) # 0.30000000000000004\n",
    "print((0.1 + 0.1 + 0.1) == 0.3) # this is still False\n",
    "print(\"=====================================\")\n",
    "# Example with Tolerance:\n",
    "tolerance = 0.00001\n",
    "print(tolerance)\n",
    "print(abs(0.1 + 0.1 + 0.1))\n",
    "print(abs(0.1 + 0.1 + 0.1 - 0.3))\n",
    "print(abs(0.1 + 0.1 + 0.1 - 0.3) < tolerance) # True\n",
    "\n",
    "# You can also use the round fucntion to round the floats to a certain number of decimal places\n",
    "print(\"This is the start of my float\")\n",
    "my_float = 0.1 + 0.1 + 0.1\n",
    "print(my_float)\n",
    "print(round(my_float, 1)== 0.3) # True\n",
    "\n",
    "# Another caveat is that you cannot compare strings and ints\n",
    "print(5 == \"5\") # False\n",
    "\n"
   ]
  },
  {
   "cell_type": "code",
   "execution_count": 32,
   "metadata": {},
   "outputs": [
    {
     "name": "stdout",
     "output_type": "stream",
     "text": [
      "True\n",
      "GrEg\n",
      "greg\n",
      "jimmy\n"
     ]
    }
   ],
   "source": [
    "# You can compare strings using the < and > operators\n",
    "# The comparison is done using the ASCII values of the characters\n",
    "print(\"Greg\" < \"greg\") # True - Capital G is less than lower case g\n",
    "\n",
    "# This is because the capital letters come before the lowercase letters in the ASCII table\n",
    "# Due to this the best way to compare strings is to use the lower() method\n",
    "\n",
    "my_name = \"GrEg\"\n",
    "print(my_name) # GrEg\n",
    "print(my_name.lower())\n",
    "\n",
    "second_name = \"JIMMY\"\n",
    "print(second_name.lower())"
   ]
  }
 ],
 "metadata": {
  "kernelspec": {
   "display_name": "Python 3",
   "language": "python",
   "name": "python3"
  },
  "language_info": {
   "codemirror_mode": {
    "name": "ipython",
    "version": 3
   },
   "file_extension": ".py",
   "mimetype": "text/x-python",
   "name": "python",
   "nbconvert_exporter": "python",
   "pygments_lexer": "ipython3",
   "version": "3.11.7"
  }
 },
 "nbformat": 4,
 "nbformat_minor": 2
}
