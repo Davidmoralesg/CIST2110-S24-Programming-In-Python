{
 "cells": [
  {
   "cell_type": "markdown",
   "metadata": {},
   "source": [
    "# Lesson 2\n",
    "### Python math operators"
   ]
  },
  {
   "cell_type": "code",
   "execution_count": 9,
   "metadata": {},
   "outputs": [
    {
     "name": "stdout",
     "output_type": "stream",
     "text": [
      "42\n"
     ]
    }
   ],
   "source": [
    "my_number = 42\n",
    "print(my_number)"
   ]
  },
  {
   "cell_type": "code",
   "execution_count": 10,
   "metadata": {},
   "outputs": [
    {
     "name": "stdout",
     "output_type": "stream",
     "text": [
      "47\n"
     ]
    }
   ],
   "source": [
    "# add 5 to my number\n",
    "my_number = my_number + 5\n",
    "print(my_number)"
   ]
  },
  {
   "cell_type": "code",
   "execution_count": 11,
   "metadata": {},
   "outputs": [
    {
     "name": "stdout",
     "output_type": "stream",
     "text": [
      "37\n"
     ]
    }
   ],
   "source": [
    "# subtract 10 from my number\n",
    "my_number = my_number - 10\n",
    "print(my_number)"
   ]
  },
  {
   "cell_type": "markdown",
   "metadata": {},
   "source": [
    "### Compound assignment operators"
   ]
  },
  {
   "cell_type": "code",
   "execution_count": 14,
   "metadata": {},
   "outputs": [
    {
     "name": "stdout",
     "output_type": "stream",
     "text": [
      "52\n"
     ]
    }
   ],
   "source": [
    "# += and -=\n",
    "my_number += 5 # this is the same as my_number = my_number + 5\n",
    "print(my_number)\n",
    "\n",
    "my_number -= 10 # this is the same as my_number = my_number - 10"
   ]
  },
  {
   "cell_type": "code",
   "execution_count": null,
   "metadata": {},
   "outputs": [],
   "source": [
    "# += addtion\n",
    "# -= subtraction\n",
    "# *= multiplication\n",
    "# /= division\n",
    "# %= modulus\n",
    "# **= exponent\n",
    "# //= floor division\n"
   ]
  },
  {
   "cell_type": "markdown",
   "metadata": {},
   "source": [
    "### Converting Data Types\n",
    "- convert to int\n",
    "- convert to float\n",
    "- convert to string\n",
    "- convert to boolean\n",
    "\n",
    "This is called type casting."
   ]
  },
  {
   "cell_type": "code",
   "execution_count": 19,
   "metadata": {},
   "outputs": [
    {
     "name": "stdout",
     "output_type": "stream",
     "text": [
      "<class 'str'>\n",
      "john is 35 years old.\n",
      "<class 'str'>\n"
     ]
    }
   ],
   "source": [
    "# Converting Data Types\n",
    "# int() converts to an integer\n",
    "# float() converts to a float\n",
    "# str() converts to a string\n",
    "# bool() converts to a boolean\n",
    "\n",
    "my_name = \"john\"\n",
    "my_age = 35\n",
    "\n",
    "# try to do String Concatenation\n",
    "# print(my_name + \" is \" + str(my_age) + \" years old.\")\n",
    "\n",
    "output = my_name + \" is \" + str(my_age) + \" years old.\"\n",
    "\n",
    "print(type(output))\n",
    "print(output)\n",
    "\n"
   ]
  },
  {
   "cell_type": "code",
   "execution_count": 24,
   "metadata": {},
   "outputs": [
    {
     "name": "stdout",
     "output_type": "stream",
     "text": [
      "<class 'str'>\n",
      "204\n"
     ]
    }
   ],
   "source": [
    "my_string_number = \"199\"\n",
    "\n",
    "print(type(my_string_number))\n",
    "\n",
    "int(my_string_number) + 5\n",
    "\n",
    "my_string_number = int(my_string_number) + 5\n",
    "print(my_string_number)"
   ]
  },
  {
   "cell_type": "markdown",
   "metadata": {},
   "source": [
    "### Special String Operators\n",
    "- print function \"end\" argument\n",
    "- new line \\n\n",
    "- tab \\t"
   ]
  },
  {
   "cell_type": "code",
   "execution_count": 43,
   "metadata": {},
   "outputs": [
    {
     "name": "stdout",
     "output_type": "stream",
     "text": [
      "John\n",
      "John SnowJack John\n",
      "John Snow\n",
      "Jack John\n",
      "John$Jack$\n",
      "John$Jack$\n",
      "John$Jack$Jill$\n",
      "John$Jack$Jill$\n",
      "Name\tAge\tPhone\n"
     ]
    }
   ],
   "source": [
    "name = \"John\"\n",
    "name2 = \"Jack\"\n",
    "name3 = \"Jill\"\n",
    "\n",
    "print(name)\n",
    "\n",
    "print(name, end=\" Snow\")\n",
    "\n",
    "print(name2,name)\n",
    "# notice there is no new line between the two print statements\n",
    "# this is because the default end character is a new line\n",
    "# to fix this we can change the end character to a new line\n",
    "print(name, end=\" Snow\\n\")\n",
    "print(name2,name)\n",
    "# notice there is a space between the two names when we print(name2,name)\n",
    "# this is because the default separator character is a space\n",
    "# to fix this we can change the separator character to nothing\n",
    "print(name, name2, sep=\"$\",end=\"$\\n\")\n",
    "print(name + \"$\" + name2 + \"$\")\n",
    "print(name, name2,name3, sep=\"$\",end=\"$\\n\")\n",
    "print(name + \"$\" + name2 + \"$\" + name3 + \"$\")\n",
    "# tab separated values\n",
    "print(\"Name\\tAge\\tPhone\")\n"
   ]
  },
  {
   "cell_type": "markdown",
   "metadata": {},
   "source": [
    "### Python Functions\n",
    "- print()\n",
    "- Function definition: A function is a block of code that performs a specific task.\n",
    "- def function_name():\n",
    "- A function is called by its name and arguments are passed if any."
   ]
  },
  {
   "cell_type": "code",
   "execution_count": 46,
   "metadata": {},
   "outputs": [
    {
     "name": "stdout",
     "output_type": "stream",
     "text": [
      "Hello World\n",
      "What is your name?\n"
     ]
    }
   ],
   "source": [
    "# Python input function\n",
    "print(\"Hello World\")\n",
    "\n",
    "print(\"What is your name?\")\n",
    "user_name = input()\n"
   ]
  },
  {
   "cell_type": "code",
   "execution_count": 48,
   "metadata": {},
   "outputs": [
    {
     "name": "stdout",
     "output_type": "stream",
     "text": [
      "<class 'str'>\n",
      "Greg\n"
     ]
    }
   ],
   "source": [
    "print(type(user_name))\n",
    "print(user_name)"
   ]
  },
  {
   "cell_type": "code",
   "execution_count": 53,
   "metadata": {},
   "outputs": [
    {
     "name": "stdout",
     "output_type": "stream",
     "text": [
      "Please enter a number:\n",
      "<class 'str'>\n",
      "5\n",
      "10\n"
     ]
    }
   ],
   "source": [
    "print(\"Please enter a number:\")\n",
    "input_number = input()\n",
    "print(type(input_number))\n",
    "print(input_number)\n",
    "# this is a string not a number\n",
    "print(int(input_number) + 5)\n",
    "# we need to convert it to a number\n",
    "\n"
   ]
  },
  {
   "cell_type": "code",
   "execution_count": 60,
   "metadata": {},
   "outputs": [
    {
     "name": "stdout",
     "output_type": "stream",
     "text": [
      "5.6\n"
     ]
    }
   ],
   "source": [
    "# alternative way to do input and convert to a number\n",
    "input_number = float(input(\"Please enter a number: \"))\n",
    "# above is the same thing as below\n",
    "# input_number = input(\"Please enter a number: \")\n",
    "# input_number = int(input_number)\n",
    "print(input_number)"
   ]
  },
  {
   "cell_type": "code",
   "execution_count": 59,
   "metadata": {},
   "outputs": [
    {
     "name": "stdout",
     "output_type": "stream",
     "text": [
      "<class 'float'>\n"
     ]
    }
   ],
   "source": [
    "print(type(input_number))"
   ]
  },
  {
   "cell_type": "code",
   "execution_count": 62,
   "metadata": {},
   "outputs": [
    {
     "name": "stdout",
     "output_type": "stream",
     "text": [
      "5\n"
     ]
    }
   ],
   "source": [
    "# what happens when I try to cast a float to an int\n",
    "# does it round up or down?\n",
    "print(int(input_number))\n",
    "# input 5.6 -> 5\n",
    "# values will always round down when converting from a float to an int"
   ]
  },
  {
   "cell_type": "markdown",
   "metadata": {},
   "source": [
    "### Python Round Function\n",
    "- round()"
   ]
  },
  {
   "cell_type": "code",
   "execution_count": 66,
   "metadata": {},
   "outputs": [
    {
     "name": "stdout",
     "output_type": "stream",
     "text": [
      "5.765543\n",
      "5.77\n"
     ]
    }
   ],
   "source": [
    "# Python round function\n",
    "\n",
    "# round(number, number of decimal places)\n",
    "# round() function rounds a number to a specified number of decimal places\n",
    "\n",
    "my_float_number = 5.765543\n",
    "print(my_float_number)\n",
    "\n",
    "my_float_number = round(my_float_number, 2)\n",
    "print(my_float_number)\n",
    "\n",
    "\n",
    "# round(\"5.67676\", 2) -> this will not work because the round function only works with numbers\n"
   ]
  },
  {
   "cell_type": "code",
   "execution_count": 78,
   "metadata": {},
   "outputs": [
    {
     "name": "stdout",
     "output_type": "stream",
     "text": [
      "Hello, I will round the number you enter to 2 decimal places.\n",
      "The number you gave me is: 5.6789\n",
      "The number you entered rounded to 2 decimal places is: 5.68\n",
      "Your number + 5 is: \n",
      "10.68\n"
     ]
    }
   ],
   "source": [
    "print(\"Hello, I will round the number you enter to 2 decimal places.\")\n",
    "\n",
    "# Notice here i am using the float() function to convert the input to a float\n",
    "# this is because the input function always returns a string\n",
    "# if I try to round a string I will get an error\n",
    "my_number = float(input(\"Please enter a number: \"))\n",
    "\n",
    "print(\"The number you gave me is:\", my_number)\n",
    "# print(\"The number you gave me is: \" + str(my_number))\n",
    "# Notice i don't need to convert my_number to a string because the print function will do it for me when i use a , instead of a +\n",
    "print(\"The number you entered rounded to 2 decimal places is:\", round(my_number, 2))\n",
    "my_number_rounded = round(my_number, 2)\n",
    "# here i am calling the round function within the print function\n",
    "print(\"Your number + 5 is: \")\n",
    "my_number_rounded += 5\n",
    "print(my_number_rounded)"
   ]
  }
 ],
 "metadata": {
  "kernelspec": {
   "display_name": "Python 3",
   "language": "python",
   "name": "python3"
  },
  "language_info": {
   "codemirror_mode": {
    "name": "ipython",
    "version": 3
   },
   "file_extension": ".py",
   "mimetype": "text/x-python",
   "name": "python",
   "nbconvert_exporter": "python",
   "pygments_lexer": "ipython3",
   "version": "3.11.7"
  }
 },
 "nbformat": 4,
 "nbformat_minor": 2
}
