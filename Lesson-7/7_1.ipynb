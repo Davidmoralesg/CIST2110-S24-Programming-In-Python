{
 "cells": [
  {
   "cell_type": "markdown",
   "metadata": {},
   "source": [
    "# Pytest, Unit Testing, and TDD (Test Driven Development)"
   ]
  },
  {
   "cell_type": "markdown",
   "metadata": {},
   "source": [
    "## Importance of testing\n",
    "    1. Ensures code reliability\n",
    "    2. Catches bugs early\n",
    "    3. Faciliates code changes (refactoring)\n",
    "\n",
    "## Types of testing\n",
    "    1. Unit Testing\n",
    "    2. Integration Testing\n",
    "    3. Functional Testing\n",
    "    4. System Testing"
   ]
  },
  {
   "cell_type": "markdown",
   "metadata": {},
   "source": [
    "## Intro to PyTest\n",
    "### How do we install PyTest?\n",
    "    - python3 -m venv venv\n",
    "    - pip3 install pytest"
   ]
  },
  {
   "cell_type": "code",
   "execution_count": 2,
   "metadata": {},
   "outputs": [],
   "source": [
    "import pytest"
   ]
  },
  {
   "cell_type": "markdown",
   "metadata": {},
   "source": [
    "### Basic Concepts\n",
    "    - Test Functions\n",
    "    - Assert Statements\n",
    "    - Running Tests"
   ]
  },
  {
   "cell_type": "markdown",
   "metadata": {},
   "source": [
    "### Write a Test in PyTest\n",
    "    - Test for Success\n",
    "    - Test for Failure\n",
    "    - Test for Exception (Edge Cases)"
   ]
  },
  {
   "cell_type": "markdown",
   "metadata": {},
   "source": [
    "### Advanced PyTest Concepts\n",
    "    - Fixtures\n",
    "    - Parametrized Tests\n",
    "    - Mocking\n"
   ]
  },
  {
   "cell_type": "markdown",
   "metadata": {},
   "source": [
    "### TDD (Test Driven Development)\n",
    "    - Write a Failing Test (Red)\n",
    "    - Make the Test Pass (Green)\n",
    "    - Refactor the Code (Refactor)\n",
    "\n",
    "### Importance of TDD\n",
    "    1. Design before Code\n",
    "    2. Regression in Testing\n",
    "    3. Simplify Debugging (Refactoring)"
   ]
  }
 ],
 "metadata": {
  "kernelspec": {
   "display_name": "venv",
   "language": "python",
   "name": "python3"
  },
  "language_info": {
   "codemirror_mode": {
    "name": "ipython",
    "version": 3
   },
   "file_extension": ".py",
   "mimetype": "text/x-python",
   "name": "python",
   "nbconvert_exporter": "python",
   "pygments_lexer": "ipython3",
   "version": "3.12.2"
  }
 },
 "nbformat": 4,
 "nbformat_minor": 2
}
