{
 "cells": [
  {
   "cell_type": "markdown",
   "metadata": {},
   "source": [
    "# Python Dictionaries"
   ]
  },
  {
   "cell_type": "markdown",
   "metadata": {},
   "source": [
    "A dictionary is a collection which is unordered, changeable and indexed. In Python dictionaries are written with cruly brackets, and they have keys and values.\n",
    "\n",
    "Lists are **ordered**, **changeable**, and **allow** duplicate values  \n",
    "Tuples are **ordered**, **unchangable**, and **allow** duplicate values  \n",
    "Dictionaries are **unordered**, **changeable**, and **do not** allow duplicate values  \n",
    "\n",
    "Dictionaries are used to store data values in key:values pairs."
   ]
  },
  {
   "cell_type": "code",
   "execution_count": 2,
   "metadata": {},
   "outputs": [],
   "source": [
    "# Examples of Dictionaries\n",
    "\n",
    "# create a dictionary\n",
    "blank_dict = {} # Notice the curly Brackets\n",
    "\n",
    "# Create a dictionary with key values pairs\n",
    "dict_with_values = {\"key1\": \"value1\", \"key2\": \"value2\"}\n",
    "\n",
    "mixed_dict = {\"key1\": 1, 2: \"value2\"}\n",
    "\n",
    "countries = {\n",
    "    # Key: Value\n",
    "    \"UK\": \"United Kingdom\",\n",
    "    \"USA\": \"United States of America\",\n",
    "    \"CA\": \"Canada\",\n",
    "    \"DE\": \"Germany\",\n",
    "    \"FR\": \"France\"\n",
    "}\n",
    "\n",
    "cars = {\n",
    "    \"Toyota\": \"Corolla\",\n",
    "    \"Honda\": \"Civic\",\n",
    "    \"Ford\": \"Fiesta\",\n",
    "    \"BMW\": \"3 Series\",\n",
    "    \"Audi\": \"A4\"\n",
    "}\n",
    "\n",
    "ford_mustang = {\n",
    "    \"Make\": \"Ford\",\n",
    "    \"Model\": \"Mustang\",\n",
    "    \"Year\": 2020,\n",
    "    \"Color\": \"Red\"\n",
    "}\n",
    "\n",
    "# storing multiple entries in a dictionary (list of dictionaries)\n",
    "cars_multiple = [\n",
    "    {\"Make\": \"Toyota\", \"Model\": \"Corolla\" , \"Year\": 2020, \"Color\": \"Blue\"},\n",
    "    {\"Make\": \"Honda\" , \"Model\": \"Civic\"   , \"Year\": 2020, \"Color\": \"Black\"},\n",
    "    {\"Make\": \"Ford\"  , \"Model\": \"Fiesta\"  , \"Year\": 2020, \"Color\": \"White\"},\n",
    "    {\"Make\": \"BMW\"   , \"Model\": \"3 Series\", \"Year\": 2020, \"Color\": \"Silver\"},\n",
    "    {\"Make\": \"Audi\"  , \"Model\": \"A4\"      , \"Year\": 2020, \"Color\": \"Grey\"}\n",
    "]\n",
    "\n"
   ]
  },
  {
   "cell_type": "code",
   "execution_count": 18,
   "metadata": {},
   "outputs": [
    {
     "name": "stdout",
     "output_type": "stream",
     "text": [
      "5\n",
      "dict_keys(['UK', 'USA', 'CA', 'DE', 'FR'])\n",
      "dict_values(['United Kingdom', 'United States of America', 'Canada', 'Germany', 'France'])\n",
      "dict_items([('UK', 'United Kingdom'), ('USA', 'United States of America'), ('CA', 'Canada'), ('DE', 'Germany'), ('FR', 'France')])\n",
      "====================\n",
      "UK United Kingdom\n",
      "USA United States of America\n",
      "key is USA\n",
      "CA Canada\n",
      "DE Germany\n",
      "FR France\n",
      "====================\n",
      "United Kingdom\n",
      "United States of America\n",
      "Canada\n",
      "Germany\n",
      "France\n",
      "====================\n",
      "UK\n",
      "USA\n",
      "CA\n",
      "DE\n",
      "FR\n"
     ]
    }
   ],
   "source": [
    "# Some things we can do with Dictionaries\n",
    "\n",
    "# Dictionary Length\n",
    "print(len(countries))\n",
    "\n",
    "# Accessing a value using a key\n",
    "countries[\"USA\"]\n",
    "\n",
    "# Return all keys in a dictionary\n",
    "print(countries.keys())\n",
    "# Return all values in a dictionary\n",
    "print(countries.values())\n",
    "\n",
    "# countries[\"US\"] # KeyError: 'US'\n",
    "\n",
    "# .items() method returns a list of tuples\n",
    "print(countries.items())\n",
    "\n",
    "print(\"====================\")\n",
    "\n",
    "# To lookup the key based on the value\n",
    "# here we use enumerate to get the index of the value\n",
    "for key, value in countries.items():\n",
    "    print(key, value)\n",
    "    if value == \"United States of America\":\n",
    "        print(f\"key is {key}\")\n",
    "        \n",
    "print(\"====================\")\n",
    "for value in countries.values():\n",
    "    print(value)\n",
    "\n",
    "print(\"====================\")\n",
    "for key in countries.keys():\n",
    "    print(key)\n",
    "\n",
    "\n"
   ]
  },
  {
   "cell_type": "code",
   "execution_count": 45,
   "metadata": {},
   "outputs": [
    {
     "name": "stdout",
     "output_type": "stream",
     "text": [
      "====================\n",
      "{'UK': 'United Kingdom', 'USA': 'United States of America', 'CA': 'Canada', 'DE': 'Germany', 'FR': 'France', 'AU': 'Austria'}\n",
      "United States of America\n",
      "None\n"
     ]
    },
    {
     "ename": "KeyError",
     "evalue": "'US'",
     "output_type": "error",
     "traceback": [
      "\u001b[0;31m---------------------------------------------------------------------------\u001b[0m",
      "\u001b[0;31mKeyError\u001b[0m                                  Traceback (most recent call last)",
      "Cell \u001b[0;32mIn[45], line 18\u001b[0m\n\u001b[1;32m     16\u001b[0m \u001b[38;5;28mprint\u001b[39m(countries\u001b[38;5;241m.\u001b[39mget(\u001b[38;5;124m\"\u001b[39m\u001b[38;5;124mUSA\u001b[39m\u001b[38;5;124m\"\u001b[39m)) \u001b[38;5;66;03m# United States of America\u001b[39;00m\n\u001b[1;32m     17\u001b[0m \u001b[38;5;28mprint\u001b[39m(countries\u001b[38;5;241m.\u001b[39mget(\u001b[38;5;124m\"\u001b[39m\u001b[38;5;124mUS\u001b[39m\u001b[38;5;124m\"\u001b[39m)) \u001b[38;5;66;03m# None\u001b[39;00m\n\u001b[0;32m---> 18\u001b[0m \u001b[38;5;28mprint\u001b[39m(\u001b[43mcountries\u001b[49m\u001b[43m[\u001b[49m\u001b[38;5;124;43m\"\u001b[39;49m\u001b[38;5;124;43mUS\u001b[39;49m\u001b[38;5;124;43m\"\u001b[39;49m\u001b[43m]\u001b[49m) \u001b[38;5;66;03m# KeyError: 'US'\u001b[39;00m\n",
      "\u001b[0;31mKeyError\u001b[0m: 'US'"
     ]
    }
   ],
   "source": [
    "print(\"====================\")\n",
    "print(countries)\n",
    "\n",
    "\n",
    "# get set and add items to a dictionary\n",
    "\n",
    "# Add a new item to the dictionary\n",
    "# Define a new key value pair\n",
    "countries[\"AU\"] = \"Australia\"\n",
    "\n",
    "# Update an existing item in the dictionary\n",
    "countries[\"AU\"] = \"Austria\"\n",
    "\n",
    "# Difference between get and [] lookup\n",
    "# get will return None if the key does not exist\n",
    "print(countries.get(\"USA\")) # United States of America\n",
    "print(countries.get(\"US\")) # None\n",
    "# print(countries[\"US\"]) # KeyError: 'US'\n"
   ]
  },
  {
   "cell_type": "code",
   "execution_count": 54,
   "metadata": {},
   "outputs": [
    {
     "name": "stdout",
     "output_type": "stream",
     "text": [
      "None\n"
     ]
    }
   ],
   "source": [
    "# Ways to delete items from a dictionary\n",
    "\n",
    "# Delete a key value pair\n",
    "# del countries[\"AU\"]\n",
    "# If you try to del a key that does not exist you will get a KeyError\n",
    "\n",
    "# To avoid getting a key error you can use pop\n",
    "# pop will return None if the key does not exist\n",
    "\n",
    "print(countries.pop(\"US\", \"None\")) # None is the default value if key is not found. Can be any value\n",
    "\n"
   ]
  },
  {
   "cell_type": "code",
   "execution_count": 56,
   "metadata": {},
   "outputs": [
    {
     "name": "stdout",
     "output_type": "stream",
     "text": [
      "0\n"
     ]
    }
   ],
   "source": [
    "# Clear all items in a dictionary\n",
    "countries.clear()\n",
    "\n",
    "print(len(countries))"
   ]
  }
 ],
 "metadata": {
  "kernelspec": {
   "display_name": "venv",
   "language": "python",
   "name": "python3"
  },
  "language_info": {
   "codemirror_mode": {
    "name": "ipython",
    "version": 3
   },
   "file_extension": ".py",
   "mimetype": "text/x-python",
   "name": "python",
   "nbconvert_exporter": "python",
   "pygments_lexer": "ipython3",
   "version": "3.12.2"
  }
 },
 "nbformat": 4,
 "nbformat_minor": 2
}
