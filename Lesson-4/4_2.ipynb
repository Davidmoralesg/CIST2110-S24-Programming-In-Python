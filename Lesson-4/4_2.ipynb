{
 "cells": [
  {
   "cell_type": "markdown",
   "metadata": {},
   "source": [
    "## Python Functions Continued"
   ]
  },
  {
   "cell_type": "code",
   "execution_count": 2,
   "metadata": {},
   "outputs": [
    {
     "name": "stdout",
     "output_type": "stream",
     "text": [
      "Hello John\n",
      "Hello John you are 25 years old\n"
     ]
    }
   ],
   "source": [
    "# Advanced Functions in Python\n",
    "\n",
    "# A Function can accept multiple arguments/parameters\n",
    "\n",
    "# simple function\n",
    "def test_me(name):\n",
    "    print(\"Hello \" + name)\n",
    "    \n",
    "test_me(\"John\")\n",
    "\n",
    "\n",
    "def test_me_multiple(name, age):\n",
    "    print(\"Hello \" + name + \" you are \" + str(age) + \" years old\")\n",
    "    \n",
    "test_me_multiple(\"John\", 25)"
   ]
  },
  {
   "cell_type": "code",
   "execution_count": 6,
   "metadata": {},
   "outputs": [
    {
     "name": "stdout",
     "output_type": "stream",
     "text": [
      "Hello John you are 25 years old\n"
     ]
    }
   ],
   "source": [
    "def multiple_with_return(name: str, age: int) -> str:\n",
    "    \"\"\"Takes in a name and age and returns a string\n",
    "\n",
    "    Args:\n",
    "        name (str): name of person\n",
    "        age (int): age of person\n",
    "\n",
    "    Returns:\n",
    "        str: return a string with name and age\n",
    "    \"\"\"\n",
    "    out = \"Hello \" + name + \" you are \" + str(age) + \" years old\"\n",
    "    return out\n",
    "    \n",
    "print(multiple_with_return(\"John\", 25))"
   ]
  },
  {
   "cell_type": "code",
   "execution_count": 8,
   "metadata": {},
   "outputs": [
    {
     "name": "stdout",
     "output_type": "stream",
     "text": [
      "Hello John you are 25 years old\n",
      "Hello John you are 30 years old\n"
     ]
    }
   ],
   "source": [
    "# Default values for parameters\n",
    "def test_me_default(name, age=25):\n",
    "    print(\"Hello \" + name + \" you are \" + str(age) + \" years old\")\n",
    "    \n",
    "test_me_default(\"John\")\n",
    "test_me_default(\"John\", 30)"
   ]
  },
  {
   "cell_type": "code",
   "execution_count": null,
   "metadata": {},
   "outputs": [],
   "source": [
    "# Try to make your Functions as detailed as possible\n",
    "def a(name: str, age:int, heing: float) -> str:\n",
    "    print(\"Dont do this\")"
   ]
  },
  {
   "cell_type": "code",
   "execution_count": 12,
   "metadata": {},
   "outputs": [
    {
     "name": "stdout",
     "output_type": "stream",
     "text": [
      "H\n",
      "e\n",
      "l\n",
      "l\n",
      "o\n",
      "H\n",
      "e\n",
      "l\n",
      "l\n",
      "o\n"
     ]
    }
   ],
   "source": [
    "## Examples with For Each Loops\n",
    "\n",
    "# For Each Loop\n",
    "# for <variable> in <list/sequence>:\n",
    "#   <do something with variable>\n",
    "\n",
    "word = \"Hello\"\n",
    "\n",
    "for letter in word:\n",
    "    print(letter)\n",
    "    \n",
    "len(word)\n",
    "\n",
    "# Equivalent to for each loop but will only give you the index\n",
    "for i in range(len(word)):\n",
    "    print(i)"
   ]
  }
 ],
 "metadata": {
  "kernelspec": {
   "display_name": "Python 3",
   "language": "python",
   "name": "python3"
  },
  "language_info": {
   "codemirror_mode": {
    "name": "ipython",
    "version": 3
   },
   "file_extension": ".py",
   "mimetype": "text/x-python",
   "name": "python",
   "nbconvert_exporter": "python",
   "pygments_lexer": "ipython3",
   "version": "3.11.7"
  }
 },
 "nbformat": 4,
 "nbformat_minor": 2
}
