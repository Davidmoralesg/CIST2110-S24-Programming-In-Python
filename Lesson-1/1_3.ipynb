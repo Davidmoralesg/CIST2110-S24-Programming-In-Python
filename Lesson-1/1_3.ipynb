{
 "cells": [
  {
   "cell_type": "markdown",
   "metadata": {},
   "source": [
    "## Lesson 1-3: Python Basics (Data Types, Arithmetic, and Variables)"
   ]
  },
  {
   "cell_type": "code",
   "execution_count": 4,
   "metadata": {},
   "outputs": [
    {
     "data": {
      "text/plain": [
       "'Hello World'"
      ]
     },
     "execution_count": 4,
     "metadata": {},
     "output_type": "execute_result"
    }
   ],
   "source": [
    "# Data Types\n",
    "# 1. Strings (str)\n",
    "# Can be done with single or double quotes\n",
    "\"Hello World\"\n",
    "'Hello World'\n"
   ]
  },
  {
   "cell_type": "markdown",
   "metadata": {},
   "source": [
    "- String are a sequence of characters, using the syntax of either single quotes or double quotes\n",
    "- Strings are immutable, meaning they cannot be changed\n",
    "- Strings are ordered sequences, meaning they can be indexed or sliced -> will learn about this later\n",
    "- Strings can be concatenated and replicated to form other strings (string concatenation)"
   ]
  },
  {
   "cell_type": "code",
   "execution_count": 7,
   "metadata": {},
   "outputs": [
    {
     "data": {
      "text/plain": [
       "1"
      ]
     },
     "execution_count": 7,
     "metadata": {},
     "output_type": "execute_result"
    }
   ],
   "source": [
    "# 2. Numbers (int, doubles)\n",
    "# 3. Integers (Whole numbers)\n",
    "1\n",
    "2\n",
    "3\n",
    "4\n",
    "5\n",
    "# 4. Float (floating point numbers) - Double (decimals) (Java and Python call it different)\n",
    "1.5\n",
    "3.14\n",
    "1.0\n",
    "# 5. Boolean (bool) - True or False\n",
    "True\n",
    "False\n",
    "# 6. Character (char) - Single letter, number, or symbol\n",
    "'a'\n",
    "'b'\n",
    "\n"
   ]
  },
  {
   "cell_type": "code",
   "execution_count": 12,
   "metadata": {},
   "outputs": [
    {
     "name": "stdout",
     "output_type": "stream",
     "text": [
      "hello\n",
      "1\n",
      "1.0\n",
      "1\n"
     ]
    }
   ],
   "source": [
    "print(\"hello\") # -> String\n",
    "print(1) # -> Integer\n",
    "print(1.0) # -> Float\n",
    "print(\"1\") # -> String\n",
    "\n",
    "# Note: a # in front of a line of code means that it is a comment\n",
    "# String - a sequence of characters\n",
    "# Int (Integer) - Whole numbers\n",
    "# Float - Decimal numbers\n",
    "# Boolean - True or False\n",
    "# Char - Single character\n",
    "\n",
    "# Boolean Values represent True / False, 1 / 0, Yes / No, On / Off (Binary)\n",
    "    # At a later point we will learn about how to use boolean values to make decisions in our code\n",
    "    # Hint: IF statements\n",
    "\n",
    "# Char - Single character (letter, number, symbol, etc.) can be represented with single quotes or double quotes\n",
    "# \"a\" or 'a'\n",
    "# Typically, we use single quotes for characters and double quotes for strings\n",
    "# 'a' is char\n",
    "# '1' is char\n",
    "# '!' is char\n",
    "# ' ' is char (space)\n",
    "\n",
    "# a char is a single character, whereas a string is a sequence of characters"
   ]
  },
  {
   "cell_type": "code",
   "execution_count": 17,
   "metadata": {},
   "outputs": [
    {
     "name": "stdout",
     "output_type": "stream",
     "text": [
      "Greg\n",
      "Walsh\n"
     ]
    }
   ],
   "source": [
    "\"Greg\"\n",
    "\"Walsh\"\n",
    "print(\"Greg\")\n",
    "print(\"Walsh\")"
   ]
  },
  {
   "cell_type": "markdown",
   "metadata": {},
   "source": [
    "## Variables\n",
    "- Variables are used to store information to be referenced and manipulated in a computer program\n",
    "- They also provide a way of labeling data with a descriptive name, so our programs can be understood more clearly by the reader and ourselves\n",
    "- It is helpful to think of variables folder in a filing cabinet (File cabinet anology) "
   ]
  },
  {
   "cell_type": "code",
   "execution_count": 32,
   "metadata": {},
   "outputs": [
    {
     "name": "stdout",
     "output_type": "stream",
     "text": [
      "Hello World\n",
      "Greg Walsh\n",
      "Gregory Walsh\n",
      "Greg Walsh\n",
      "<class 'str'>\n",
      "<class 'float'>\n",
      "Gregory Walsh\n",
      "New Name\n",
      "New Name\n",
      "===================\n",
      "New Name\n",
      "Jack Black\n"
     ]
    }
   ],
   "source": [
    "# Variables with String\n",
    "\n",
    "print(\"Hello World\")\n",
    "# \"Hello World\"\n",
    "# Lets change the print statment to my name\n",
    "print(\"Greg Walsh\")\n",
    "# What if I want to change it to my name?\n",
    "print(\"Gregory Walsh\")\n",
    "\n",
    "# Make a variable called name and assign it to your name\n",
    "# Syntax for a variable:\n",
    "# Varible_name = Variable_value\n",
    "# Filing Cabinetr Anology\n",
    "# Folder_name = Folder_contents\n",
    "name = \"Greg Walsh\"\n",
    "print(name)\n",
    "# In java this is created like this:\n",
    "# String name = \"Greg Walsh\";\n",
    "# in python we don't need to specify the type of the variable when we create it\n",
    "# This is helpful for when you want to know the type of a variable:\n",
    "print(type(name)) # -> <class 'str'>\n",
    "\n",
    "data = 1.0\n",
    "\n",
    "print(type(data)) # -> <class 'float'>\n",
    "\n",
    "# If I want to change the name variable to something else, I can just reassign it\n",
    "name = \"Gregory Walsh\"\n",
    "print(name)\n",
    "\n",
    "name = \"New Name\"\n",
    "\n",
    "# Copy of a variable\n",
    "name2 = name\n",
    "\n",
    "print(name)\n",
    "print(name2)\n",
    "\n",
    "name2 = \"Jack Black\"\n",
    "\n",
    "print(\"===================\")\n",
    "print(name)\n",
    "print(name2)"
   ]
  }
 ],
 "metadata": {
  "kernelspec": {
   "display_name": "Python 3",
   "language": "python",
   "name": "python3"
  },
  "language_info": {
   "codemirror_mode": {
    "name": "ipython",
    "version": 3
   },
   "file_extension": ".py",
   "mimetype": "text/x-python",
   "name": "python",
   "nbconvert_exporter": "python",
   "pygments_lexer": "ipython3",
   "version": "3.11.7"
  }
 },
 "nbformat": 4,
 "nbformat_minor": 2
}
